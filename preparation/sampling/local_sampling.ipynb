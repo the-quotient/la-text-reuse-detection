{
 "cells": [
  {
   "cell_type": "code",
   "execution_count": null,
   "id": "143475f6-277a-4124-9299-18714619d3b3",
   "metadata": {},
   "outputs": [],
   "source": [
    "from sampling import Sampler \n",
    "\n",
    "sampler = Sampler(\n",
    "    model_path=\"../../models/SPhilBERTa\",\n",
    "    paraphrases_path=\"../../data/llm-completed-pairs/test_paraphrases.json\",\n",
    "    similar_sentences_path=\"../../data/llm-completed-pairs/test_similar_sentences.json\",\n",
    "    corpus_path=\"../../data/corpus/corpus/corpus.jsonl\"\n",
    ")\n",
    "\n",
    "negatives = sampler.sample_negatives_irrelevant()\n",
    "sampler.save(negatives, label=\"irrelevant\", output_file=\"negatives.json\")\n",
    "for pair in negatives:\n",
    "    print(pair)"
   ]
  },
  {
   "cell_type": "code",
   "execution_count": 3,
   "id": "cf96a024-3c3d-4c82-92da-033b7933a2f2",
   "metadata": {},
   "outputs": [],
   "source": [
    "import json\n",
    "import random\n",
    "def sample_quotes(corpus_file, output_file, sample_size):\n",
    "    data = []\n",
    "    with open(corpus_file, 'r', encoding='utf-8') as f:\n",
    "            for line in f:\n",
    "                if line.strip():\n",
    "                    record = json.loads(line)\n",
    "                    data.append(record[\"sentence\"])\n",
    "\n",
    "    sample = random.sample(data, sample_size)\n",
    "\n",
    "    output = []\n",
    "    for sentence in sample:\n",
    "        output.append({\n",
    "            \"sentence1\": sentence,\n",
    "            \"sentence2\": sentence,\n",
    "            \"label\": \"quote\"\n",
    "        })\n",
    "\n",
    "    with open(output_file, 'w', encoding='utf-8') as f:\n",
    "        json.dump(output, f, indent=4)\n"
   ]
  },
  {
   "cell_type": "code",
   "execution_count": 8,
   "id": "aebca4cd-dd63-4432-b626-f17f162241a1",
   "metadata": {},
   "outputs": [],
   "source": [
    "sample_quotes(\"../../data/corpus/corpus/corpus.jsonl\", \"../../data/training/retriever/quotes.json\", 5000)"
   ]
  },
  {
   "cell_type": "code",
   "execution_count": 18,
   "id": "ec76786b-b791-4040-a26e-23d616c78c5f",
   "metadata": {},
   "outputs": [],
   "source": [
    "for pair in paraphrases:\n",
    "    sent1, sent2 = pair\n",
    "    emb1 = model.encode(sent1)\n",
    "    emb2 = model.encode(sent2) \n",
    "    score = util.cos_sim(emb1, emb2).item() \n",
    "    if score < 0.7:\n",
    "        print(score)"
   ]
  },
  {
   "cell_type": "code",
   "execution_count": null,
   "id": "ece70f12-7cfd-417b-a1c9-99aee3d2909f",
   "metadata": {},
   "outputs": [],
   "source": [
    "for pair in similar_sentences:\n",
    "    sent1, sent2 = pair\n",
    "    emb1 = model.encode(sent1)\n",
    "    emb2 = model.encode(sent2) \n",
    "    score = util.cos_sim(emb1, emb2).item() \n",
    "    if score < 0.5:\n",
    "        print(score)"
   ]
  },
  {
   "cell_type": "code",
   "execution_count": 10,
   "id": "e3db444d-33c3-4662-89f5-c4a9a8439e08",
   "metadata": {},
   "outputs": [],
   "source": [
    "def create_triplets(file1_path, file2_path, output_path):\n",
    "    \n",
    "    def collect_pairs(data):\n",
    "        pairs = {}\n",
    "        for item in data:\n",
    "            s1, s2, label = item[\"sentence1\"], item[\"sentence2\"], item[\"label\"]\n",
    "            for anchor, other in [(s1, s2), (s2, s1)]:\n",
    "                pairs.setdefault(anchor, []).append((other, label))\n",
    "        return pairs\n",
    "\n",
    "    # Load and process files\n",
    "    with open(file1_path, 'r', encoding='utf-8') as f:\n",
    "        data1 = json.load(f)\n",
    "    with open(file2_path, 'r', encoding='utf-8') as f:\n",
    "        data2 = json.load(f)\n",
    "\n",
    "    map1 = collect_pairs(data1)\n",
    "    map2 = collect_pairs(data2)\n",
    "\n",
    "    triplets = []\n",
    "    for anchor in map1:\n",
    "        if anchor in map2:\n",
    "            for other1, label1 in map1[anchor]:\n",
    "                for other2, label2 in map2[anchor]:\n",
    "                    if label1 != label2:\n",
    "                        if label1 == \"irrelevant\":\n",
    "                            negative = other1\n",
    "                            positive = other2\n",
    "                        else:\n",
    "                            negative = other2\n",
    "                            positive = other1\n",
    "                        triplets.append({\n",
    "                            \"anchor\": anchor,\n",
    "                            \"positive\": positive,\n",
    "                            \"negative\": negative\n",
    "                        })\n",
    "\n",
    "    with open(output_path, 'w', encoding='utf-8') as f:\n",
    "        json.dump(triplets, f, indent=2, ensure_ascii=False)\n"
   ]
  },
  {
   "cell_type": "code",
   "execution_count": 11,
   "id": "5562fda5-4dbb-4982-bfb7-d78b9a4b4548",
   "metadata": {},
   "outputs": [],
   "source": [
    "create_triplets(\n",
    "    \"../../data/training/retriever/paraphrases_40k.json\", \n",
    "    \"../../data/training/retriever/irrelevant_for_paraphrases_40k.json\", \n",
    "    \"../../data/training/retriever/triplets_paraphrases.json\"\n",
    ")"
   ]
  },
  {
   "cell_type": "code",
   "execution_count": 12,
   "id": "51fdde5b-16fa-49c1-94ef-202f7cdbc6d1",
   "metadata": {},
   "outputs": [],
   "source": [
    "create_triplets(\n",
    "    \"../../data/training/retriever/similar_sentences_40k.json\", \n",
    "    \"../../data/training/retriever/irrelevant_for_similar_sentences_40k.json\", \n",
    "    \"../../data/training/retriever/triplets_similar_sentences.json\"\n",
    ")"
   ]
  },
  {
   "cell_type": "code",
   "execution_count": 13,
   "id": "ac4a8c8c-1e6a-49d6-9b0c-34fd4f404d56",
   "metadata": {},
   "outputs": [],
   "source": [
    "create_triplets(\n",
    "    \"../../data/training/retriever/fuzzy_quotes_20k.json\", \n",
    "    \"../../data/training/retriever/irrelevant_for_fuzzy_quotes_20k.json\", \n",
    "    \"../../data/training/retriever/triplets_fuzzy_quotes.json\"\n",
    ")"
   ]
  },
  {
   "cell_type": "code",
   "execution_count": null,
   "id": "87fa2d86-4fe2-4e3d-a27c-2bfe1c4a1f5c",
   "metadata": {},
   "outputs": [],
   "source": []
  }
 ],
 "metadata": {
  "kernelspec": {
   "display_name": "Python 3 (ipykernel)",
   "language": "python",
   "name": "python3"
  },
  "language_info": {
   "codemirror_mode": {
    "name": "ipython",
    "version": 3
   },
   "file_extension": ".py",
   "mimetype": "text/x-python",
   "name": "python",
   "nbconvert_exporter": "python",
   "pygments_lexer": "ipython3",
   "version": "3.10.16"
  }
 },
 "nbformat": 4,
 "nbformat_minor": 5
}
