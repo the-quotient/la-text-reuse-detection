{
 "cells": [
  {
   "cell_type": "code",
   "execution_count": 1,
   "id": "9bd46b7c-1a9f-4324-8f03-06ac6a09707a",
   "metadata": {},
   "outputs": [],
   "source": [
    "import paraphrases\n",
    "import similar_sentences\n",
    "import fuzzy_quotes\n",
    "\n",
    "input_file = \"../../../data/test/llm_pair_completion_test.jsonl\" \n",
    "output_file_paraphrases = \"test_paraphrases.json\" \n",
    "output_file_similar_sentences = \"test_similar_sentences.json\" \n",
    "output_file_fuzzy_quotes = \"test_fuzzy_quotes.json\" \n",
    "\n",
    "SAMPLE_SIZE = 20\n",
    "BATCH_SIZE = 5 "
   ]
  },
  {
   "cell_type": "code",
   "execution_count": 3,
   "id": "ff5cf56c-6ce2-4462-8e68-48cbfc6ecce9",
   "metadata": {},
   "outputs": [],
   "source": [
    "paraphrases.create_paraphrases(input_file, output_file_paraphrases, SAMPLE_SIZE, BATCH_SIZE)"
   ]
  },
  {
   "cell_type": "code",
   "execution_count": 2,
   "id": "dd5c1e2a-0c54-457b-9a51-38b16c109690",
   "metadata": {},
   "outputs": [],
   "source": [
    "similar_sentences.create_similar_sentences(input_file, output_file_similar_sentences, SAMPLE_SIZE, BATCH_SIZE)"
   ]
  },
  {
   "cell_type": "code",
   "execution_count": 2,
   "id": "1bc11d36-a784-4de0-9dc1-a5fb44595a0b",
   "metadata": {},
   "outputs": [
    {
     "name": "stdout",
     "output_type": "stream",
     "text": [
      "test_fuzzy_quotes.json\n"
     ]
    }
   ],
   "source": [
    "fuzzy_quotes.create_fuzzy_quotes(input_file, output_file_fuzzy_quotes, SAMPLE_SIZE, BATCH_SIZE)"
   ]
  },
  {
   "cell_type": "code",
   "execution_count": null,
   "id": "65a0c0da-b526-4d72-a162-0aefe7fa7405",
   "metadata": {},
   "outputs": [],
   "source": []
  }
 ],
 "metadata": {
  "kernelspec": {
   "display_name": "Python 3 (ipykernel)",
   "language": "python",
   "name": "python3"
  },
  "language_info": {
   "codemirror_mode": {
    "name": "ipython",
    "version": 3
   },
   "file_extension": ".py",
   "mimetype": "text/x-python",
   "name": "python",
   "nbconvert_exporter": "python",
   "pygments_lexer": "ipython3",
   "version": "3.10.16"
  }
 },
 "nbformat": 4,
 "nbformat_minor": 5
}
