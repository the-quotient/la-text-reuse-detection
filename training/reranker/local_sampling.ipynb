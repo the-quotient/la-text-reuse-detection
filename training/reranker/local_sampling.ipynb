{
 "cells": [
  {
   "cell_type": "code",
   "execution_count": null,
   "id": "143475f6-277a-4124-9299-18714619d3b3",
   "metadata": {},
   "outputs": [],
   "source": [
    "from sampling import Sampler \n",
    "\n",
    "sampler = Sampler(\n",
    "    model_path=\"../../models/SPhilBERTa\",\n",
    "    paraphrases_path=\"../../data/llm-completed-pairs/test_paraphrases.json\",\n",
    "    similar_sentences_path=\"../../data/llm-completed-pairs/test_similar_sentences.json\",\n",
    "    corpus_path=\"../../data/corpus/corpus/corpus.jsonl\"\n",
    ")\n",
    "\n",
    "negatives = sampler.sample_negatives_irrelevant()\n",
    "sampler.save(negatives, label=\"irrelevant\", output_file=\"negatives.json\")\n",
    "for pair in negatives:\n",
    "    print(pair)"
   ]
  },
  {
   "cell_type": "code",
   "execution_count": 18,
   "id": "ec76786b-b791-4040-a26e-23d616c78c5f",
   "metadata": {},
   "outputs": [],
   "source": [
    "for pair in paraphrases:\n",
    "    sent1, sent2 = pair\n",
    "    emb1 = model.encode(sent1)\n",
    "    emb2 = model.encode(sent2) \n",
    "    score = util.cos_sim(emb1, emb2).item() \n",
    "    if score < 0.7:\n",
    "        print(score)"
   ]
  },
  {
   "cell_type": "code",
   "execution_count": 20,
   "id": "ece70f12-7cfd-417b-a1c9-99aee3d2909f",
   "metadata": {},
   "outputs": [
    {
     "name": "stdout",
     "output_type": "stream",
     "text": [
      "0.49704650044441223\n",
      "0.3810604214668274\n",
      "0.4222860038280487\n",
      "0.42624545097351074\n"
     ]
    }
   ],
   "source": [
    "for pair in similar_sentences:\n",
    "    sent1, sent2 = pair\n",
    "    emb1 = model.encode(sent1)\n",
    "    emb2 = model.encode(sent2) \n",
    "    score = util.cos_sim(emb1, emb2).item() \n",
    "    if score < 0.5:\n",
    "        print(score)"
   ]
  },
  {
   "cell_type": "code",
   "execution_count": null,
   "id": "e3db444d-33c3-4662-89f5-c4a9a8439e08",
   "metadata": {},
   "outputs": [],
   "source": []
  }
 ],
 "metadata": {
  "kernelspec": {
   "display_name": "Python 3 (ipykernel)",
   "language": "python",
   "name": "python3"
  },
  "language_info": {
   "codemirror_mode": {
    "name": "ipython",
    "version": 3
   },
   "file_extension": ".py",
   "mimetype": "text/x-python",
   "name": "python",
   "nbconvert_exporter": "python",
   "pygments_lexer": "ipython3",
   "version": "3.10.16"
  }
 },
 "nbformat": 4,
 "nbformat_minor": 5
}
