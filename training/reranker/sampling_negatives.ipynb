{
 "cells": [
  {
   "cell_type": "code",
   "execution_count": null,
   "id": "dbd432ec-db3e-4205-8aa0-a2356a87a3d9",
   "metadata": {},
   "outputs": [],
   "source": [
    "paraphrases = load(\"../data/llm-generated-pairs/paraphrases.json\")\n",
    "corpus = load(\"../data/corpus/corpus/corpus.jsonl\")\n",
    "model = \"models/SPhilBERTa\" \n"
   ]
  },
  {
   "cell_type": "code",
   "execution_count": 2,
   "id": "8f1ad5a9-4f62-4bbc-9912-40b7649a3efc",
   "metadata": {},
   "outputs": [],
   "source": [
    "def sample_negatives_irrelevant(paraphrases, corpus, model_path,\n",
    "                                threshold=0.6, max_attempts=10):\n",
    " \n",
    "    corpus_set = set(corpus)\n",
    "\n",
    "    model = SentenceTransformer(model_path)\n",
    "    negatives = []\n",
    "\n",
    "    # for each pair identify the original sentence (i.e. contained in corpus file) \n",
    "    for pair in paraphrases:\n",
    "        s1, s2 = pair\n",
    "\n",
    "        if s1 in corpus_set:\n",
    "            original = s1\n",
    "        elif s2 in corpus_set:\n",
    "            original = s2\n",
    "        else:\n",
    "            continue\n",
    "\n",
    "        # for this sentence sample another random sentence from the corpus\n",
    "        found = False\n",
    "        for _ in range(max_attempts):\n",
    "            candidate = random.choice(corpus)\n",
    "\n",
    "            if candidate == original:\n",
    "                continue\n",
    "\n",
    "            # compute cosine similarity of the two sentences with the sentence transformer model \n",
    "            orig_emb = st_model.encode(original, convert_to_tensor=True)\n",
    "            cand_emb = st_model.encode(candidate, convert_to_tensor=True)\n",
    "            cosine_score = util.cos_sim(orig_emb, cand_emb).item()\n",
    "\n",
    "            # if score < 0.6 append \n",
    "            if cosine_score < threshold:\n",
    "                negatives.append((original, candidate))\n",
    "                found = True\n",
    "                break\n",
    "\n",
    "    return negatives"
   ]
  },
  {
   "cell_type": "code",
   "execution_count": null,
   "id": "7cdc6eb8-f8f8-4661-a314-9904febf40ad",
   "metadata": {},
   "outputs": [],
   "source": []
  }
 ],
 "metadata": {
  "kernelspec": {
   "display_name": "Python 3 (ipykernel)",
   "language": "python",
   "name": "python3"
  },
  "language_info": {
   "codemirror_mode": {
    "name": "ipython",
    "version": 3
   },
   "file_extension": ".py",
   "mimetype": "text/x-python",
   "name": "python",
   "nbconvert_exporter": "python",
   "pygments_lexer": "ipython3",
   "version": "3.12.7"
  }
 },
 "nbformat": 4,
 "nbformat_minor": 5
}
