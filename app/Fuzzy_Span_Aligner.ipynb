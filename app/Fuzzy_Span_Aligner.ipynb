{
 "cells": [
  {
   "cell_type": "code",
   "execution_count": 32,
   "id": "41fac221-bcc1-41d9-b417-ca10dc449310",
   "metadata": {},
   "outputs": [],
   "source": [
    "import spacy\n",
    "\n",
    "# Load spaCy's Latin model\n",
    "nlp = spacy.load(\"la_core_web_lg\")\n",
    "\n",
    "# Tokenize and keep both tokens and positions\n",
    "def tokenize_with_offsets(text):\n",
    "    doc = nlp(text)\n",
    "    tokens = [token.text for token in doc]\n",
    "    offsets = [(token.idx, token.idx + len(token)) for token in doc]\n",
    "    return tokens, offsets\n",
    "\n",
    "# Create sliding windows\n",
    "def token_windows(tokens, offsets, n):\n",
    "    return [\n",
    "        (tokens[i:i+n], offsets[i:i+n])\n",
    "        for i in range(len(tokens) - n + 1)\n",
    "    ]\n",
    "\n",
    "# Jaccard similarity between token sets\n",
    "def jaccard(set1, set2):\n",
    "    intersection = set1 & set2\n",
    "    union = set1 | set2\n",
    "    return len(intersection) / len(union) if union else 0\n",
    "\n",
    "# Main matcher function with merging and char span output\n",
    "def find_merged_spacy_matches(s1, s2, window_size=20, threshold=0.5, gap=10):\n",
    "    tokens1, offsets1 = tokenize_with_offsets(s1)\n",
    "    tokens2, offsets2 = tokenize_with_offsets(s2)\n",
    "\n",
    "    win1 = token_windows(tokens1, offsets1, window_size)\n",
    "    win2 = token_windows(tokens2, offsets2, window_size)\n",
    "\n",
    "    raw_matches = []\n",
    "    for i, (t1, o1) in enumerate(win1):\n",
    "        for j, (t2, o2) in enumerate(win2):\n",
    "            score = jaccard(set(t1), set(t2))\n",
    "            if score >= threshold:\n",
    "                raw_matches.append((score, i, i+window_size, j, j+window_size))\n",
    "\n",
    "    # Merge clusters of overlapping/adjacent windows\n",
    "    clusters = []\n",
    "    current = []\n",
    "\n",
    "    for match in sorted(raw_matches, key=lambda x: (x[1], x[3])):\n",
    "        _, s1_start, s1_end, s2_start, s2_end = match\n",
    "        if not current:\n",
    "            current.append(match)\n",
    "        else:\n",
    "            _, ps1_start, ps1_end, ps2_start, ps2_end = current[-1]\n",
    "            if s1_start <= ps1_end + gap and s2_start <= ps2_end + gap:\n",
    "                current.append(match)\n",
    "            else:\n",
    "                clusters.append(current)\n",
    "                current = [match]\n",
    "    if current:\n",
    "        clusters.append(current)\n",
    "\n",
    "    # Final output: merged tokens and character spans\n",
    "    merged = []\n",
    "    for cluster in clusters:\n",
    "        scores = [m[0] for m in cluster]\n",
    "        s1_start = min(m[1] for m in cluster)\n",
    "        s1_end = max(m[2] for m in cluster)\n",
    "        s2_start = min(m[3] for m in cluster)\n",
    "        s2_end = max(m[4] for m in cluster)\n",
    "\n",
    "        tokens_span1 = tokens1[s1_start:s1_end]\n",
    "        tokens_span2 = tokens2[s2_start:s2_end]\n",
    "\n",
    "        char_start1 = offsets1[s1_start][0]\n",
    "        char_end1 = offsets1[s1_end-1][1]\n",
    "        char_start2 = offsets2[s2_start][0]\n",
    "        char_end2 = offsets2[s2_end-1][1]\n",
    "\n",
    "        merged.append({\n",
    "            \"score\": max(scores),\n",
    "            \"tokens1\": tokens_span1,\n",
    "            \"tokens2\": tokens_span2,\n",
    "            \"char_span1\": (char_start1, char_end1),\n",
    "            \"char_span2\": (char_start2, char_end2)\n",
    "        })\n",
    "\n",
    "    return merged\n"
   ]
  },
  {
   "cell_type": "code",
   "execution_count": 33,
   "id": "b1ec6528-2864-44df-b677-fe118a1404af",
   "metadata": {},
   "outputs": [
    {
     "name": "stdout",
     "output_type": "stream",
     "text": [
      "\n",
      "Match 1 (Jaccard 0.667):\n",
      "  Sentence 1: non pepercisti unigenito filio tuo\n",
      "  Sentence 2: quod non pepercisti filio tuo unico\n",
      "  Char span in s1: (37, 71)\n",
      "  Char span in s2: (133, 168)\n",
      "  → s1 excerpt: non pepercisti unigenito filio tuo\n",
      "  → s2 excerpt: quod non pepercisti filio tuo unico\n"
     ]
    }
   ],
   "source": [
    "sentence1 = (\n",
    "    \"nunc cognoui quod timeas Dominum, et non pepercisti unigenito filio tuo propter ne.\"\n",
    ")\n",
    "\n",
    "sentence2 = (\n",
    "    \"Ebraica magis sunt elegantia, Ne extendas manum tuam super puerum, nec feceris ei \"\n",
    "    \"quicquam, quoniam nunc cognoui quod times tu deum, quod non pepercisti filio tuo unico a me.\"\n",
    ")\n",
    "\n",
    "matches = find_merged_spacy_matches(sentence1, sentence2, window_size=5, threshold=0.6)\n",
    "\n",
    "for i, match in enumerate(matches, 1):\n",
    "    print(f\"\\nMatch {i} (Jaccard {match['score']:.3f}):\")\n",
    "    print(\"  Sentence 1:\", \" \".join(match[\"tokens1\"]))\n",
    "    print(\"  Sentence 2:\", \" \".join(match[\"tokens2\"]))\n",
    "    print(\"  Char span in s1:\", match[\"char_span1\"])\n",
    "    print(\"  Char span in s2:\", match[\"char_span2\"])\n",
    "    print(\"  → s1 excerpt:\", sentence1[match['char_span1'][0]:match['char_span1'][1]])\n",
    "    print(\"  → s2 excerpt:\", sentence2[match['char_span2'][0]:match['char_span2'][1]])\n"
   ]
  },
  {
   "cell_type": "code",
   "execution_count": 2,
   "id": "582cb953-89a9-4745-83ed-cbd9cd8b9d21",
   "metadata": {},
   "outputs": [],
   "source": [
    "from rapidfuzz import fuzz\n",
    "import spacy\n",
    "\n",
    "nlp = spacy.load(\"la_core_web_lg\")\n",
    "\n",
    "def fuzzy_match_spans(s1, s2, window_size=6, threshold=80):\n",
    "    doc1 = nlp(s1)\n",
    "    doc2 = nlp(s2)\n",
    "\n",
    "    tokens1 = [token.text for token in doc1]\n",
    "    tokens2 = [token.text for token in doc2]\n",
    "\n",
    "    results = []\n",
    "\n",
    "    for i in range(len(tokens1) - window_size + 1):\n",
    "        span1 = tokens1[i:i+window_size]\n",
    "        str1 = \" \".join(span1)\n",
    "        for j in range(len(tokens2) - window_size + 1):\n",
    "            span2 = tokens2[j:j+window_size]\n",
    "            str2 = \" \".join(span2)\n",
    "            score = fuzz.partial_ratio(str1, str2)\n",
    "            if score >= threshold:\n",
    "                # Get char offsets\n",
    "                start1 = doc1[i].idx\n",
    "                end1 = doc1[i + window_size - 1].idx + len(doc1[i + window_size - 1])\n",
    "                start2 = doc2[j].idx\n",
    "                end2 = doc2[j + window_size - 1].idx + len(doc2[j + window_size - 1])\n",
    "\n",
    "                results.append({\n",
    "                    \"score\": score,\n",
    "                    \"s1_tokens\": span1,\n",
    "                    \"s2_tokens\": span2,\n",
    "                    \"s1_text\": s1[start1:end1],\n",
    "                    \"s2_text\": s2[start2:end2],\n",
    "                    \"s1_span\": (start1, end1),\n",
    "                    \"s2_span\": (start2, end2)\n",
    "                })\n",
    "\n",
    "    # Sort by similarity\n",
    "    return sorted(results, key=lambda x: x[\"score\"], reverse=True)\n"
   ]
  },
  {
   "cell_type": "code",
   "execution_count": 7,
   "id": "1144d4dc-894b-4c35-bd68-0c0b861ea44f",
   "metadata": {},
   "outputs": [
    {
     "name": "stdout",
     "output_type": "stream",
     "text": [
      "\n",
      "Match 1 (score 74.82993197278911):\n",
      "  s1: nunc cognoui quod timeas Dominum, et non pepercisti unigenito filio tuo propter ne.\n",
      "  s2: nunc cognoui quod times tu deum, quod non pepercisti filio tuo unico a me\n",
      "\n",
      "Match 2 (score 72.36842105263158):\n",
      "  s1: nunc cognoui quod timeas Dominum, et non pepercisti unigenito filio tuo propter ne.\n",
      "  s2: , quoniam nunc cognoui quod times tu deum, quod non pepercisti filio tuo unico\n",
      "\n",
      "Match 3 (score 72.36842105263158):\n",
      "  s1: nunc cognoui quod timeas Dominum, et non pepercisti unigenito filio tuo propter ne.\n",
      "  s2: quoniam nunc cognoui quod times tu deum, quod non pepercisti filio tuo unico a\n"
     ]
    }
   ],
   "source": [
    "s1 = \"nunc cognoui quod timeas Dominum, et non pepercisti unigenito filio tuo propter ne.\"\n",
    "s2 = \"Ebraica magis sunt elegantia, Ne extendas manum tuam super puerum, nec feceris ei quicquam, quoniam nunc cognoui quod times tu deum, quod non pepercisti filio tuo unico a me.\"\n",
    "\n",
    "matches = fuzzy_match_spans(s1, s2, window_size=15, threshold=70)\n",
    "\n",
    "for i, match in enumerate(matches[:3], 1):\n",
    "    print(f\"\\nMatch {i} (score {match['score']}):\")\n",
    "    print(\"  s1:\", match['s1_text'])\n",
    "    print(\"  s2:\", match['s2_text'])\n"
   ]
  },
  {
   "cell_type": "code",
   "execution_count": 72,
   "id": "17c6914c-26cf-4099-8c9a-1da4483a76f3",
   "metadata": {},
   "outputs": [],
   "source": [
    "s1 = \"descendit in terram, induit hominem, et rursus ascendit in caelum, ut omnia impleret. Angeli quoque Dei ascendunt et descendunt\"\n",
    "s2 = \"Secundo, quia Christus non magis in coelo, quam in terra est Dominus et gubernator. Ascendunt et descendum Angeli in hac scala.\"\n",
    "\n",
    "matches = fuzzy_match_spans(s1, s2, window_size=15, threshold=80)\n",
    "\n",
    "for i, match in enumerate(matches[:3], 1):\n",
    "    print(f\"\\nMatch {i} (score {match['score']}):\")\n",
    "    print(\"  s1:\", match['s1_text'])\n",
    "    print(\"  s2:\", match['s2_text'])\n"
   ]
  },
  {
   "cell_type": "code",
   "execution_count": 70,
   "id": "e80f8e3b-14d0-42e7-82ef-99861a993319",
   "metadata": {},
   "outputs": [
    {
     "name": "stdout",
     "output_type": "stream",
     "text": [
      "\n",
      "Match 1 (score 97.91666666666666):\n",
      "  s1: cuius ore profluit ipsa uis sacramenti, purificans, emundans, uiuificans totum fidelem hominem\n",
      "  s2: de cuius ore profluit ipsa uis Sacramenti purificans, emundans, uiuificans totum fidelem hominem\n",
      "\n",
      "Match 2 (score 97.91666666666666):\n",
      "  s1: cuius ore profluit ipsa uis sacramenti, purificans, emundans, uiuificans totum fidelem hominem\n",
      "  s2: cuius ore profluit ipsa uis Sacramenti purificans, emundans, uiuificans totum fidelem hominem.\n",
      "\n",
      "Match 3 (score 97.8021978021978):\n",
      "  s1: de cuius ore profluit ipsa uis sacramenti, purificans, emundans, uiuificans totum fidelem\n",
      "  s2: , de cuius ore profluit ipsa uis Sacramenti purificans, emundans, uiuificans totum fidelem\n"
     ]
    }
   ],
   "source": [
    "s1 = \"Unus est qui baptizat. Unus et solus hic est, qui sanctificat, unus est fons, unus est riuus baptismi salutaris, qui per qualescunque canales influat: Hic est qui baptizat, de cuius ore profluit ipsa uis sacramenti, purificans, emundans, uiuificans totum fidelem hominem et sanctificans.\"\n",
    "s2 = \"Unus siquidem est, qui baptizat: unus et solus, qui sanctificat. cumque canales influat, hic est qui baptizat, de cuius ore profluit ipsa uis Sacramenti purificans, emundans, uiuificans totum fidelem hominem.\"\n",
    "matches = fuzzy_match_spans(s1, s2, window_size=15, threshold=80)\n",
    "\n",
    "for i, match in enumerate(matches[:3], 1):\n",
    "    print(f\"\\nMatch {i} (score {match['score']}):\")\n",
    "    print(\"  s1:\", match['s1_text'])\n",
    "    print(\"  s2:\", match['s2_text'])\n"
   ]
  },
  {
   "cell_type": "code",
   "execution_count": 71,
   "id": "d8b716dd-1d84-40e9-b64b-ba42665bcfd7",
   "metadata": {},
   "outputs": [
    {
     "name": "stdout",
     "output_type": "stream",
     "text": [
      "\n",
      "Match 1 (score 95.83333333333334):\n",
      "  s1: surrexit, adeo magnus, ut longe ante per prophetam, angelus dictus sit.\n",
      "  s2: quo maior non surrexit adeo magnus, ut longe ante per prophetam angelus dictus sit\n",
      "\n",
      "Match 2 (score 95.36423841059603):\n",
      "  s1: nemo surrexit, adeo magnus, ut longe ante per prophetam, angelus dictus sit\n",
      "  s2: quo maior non surrexit adeo magnus, ut longe ante per prophetam angelus dictus sit\n",
      "\n",
      "Match 3 (score 92.85714285714286):\n",
      "  s1: surrexit, adeo magnus, ut longe ante per prophetam, angelus dictus sit.\n",
      "  s2: , quo maior non surrexit adeo magnus, ut longe ante per prophetam angelus dictus\n"
     ]
    }
   ],
   "source": [
    "\n",
    "s1 = \"Fuit homo missus a Deo, cui nomen erat Joannes, hic uenit in testimonium, siquidem et alii prophetae homines fuerunt et omnes a Deo missi sunt, et nomine Joannis multi homines [Col.0214D] aequeuocati sunt. Diligentius ergo pensanda sunt, quia non exili elocutione, sed grandi declamatione prolata sunt. Uidelicet tali in loco uel causa sic nominatus homo fuit, multum suscipiendus, longe dissimilis hominibus multis, utpote quo maior inter natos mulierum nemo surrexit, adeo magnus, ut longe ante per prophetam, angelus dictus sit.\"\n",
    "s2= \"Congrue autem hominem eum nominat, fuit enim hoc nomine dignissimus, ut qui non fuit ex eorum numero, qui cum in honore essent, non intelligentes, comparati sunt iumentis insipientibus. Homo igitur erat Ioannes, sed multum suscipiendus, longe dissimilis hominibus aliis, utpote, quo maior non surrexit adeo magnus, ut longe ante per prophetam angelus dictus sit\"\n",
    "matches = fuzzy_match_spans(s1, s2, window_size=15, threshold=80)\n",
    "\n",
    "for i, match in enumerate(matches[:3], 1):\n",
    "    print(f\"\\nMatch {i} (score {match['score']}):\")\n",
    "    print(\"  s1:\", match['s1_text'])\n",
    "    print(\"  s2:\", match['s2_text'])\n"
   ]
  },
  {
   "cell_type": "code",
   "execution_count": 82,
   "id": "1ab780e9-7118-4b25-95c4-f7f6d3275713",
   "metadata": {},
   "outputs": [
    {
     "name": "stdout",
     "output_type": "stream",
     "text": [
      "\n",
      "Match 1 (score 95.83333333333334):\n",
      "  s1: surrexit, adeo magnus, ut longe ante per prophetam, angelus dictus sit.\n",
      "  s2: quo maior non surrexit adeo magnus, ut longe ante per prophetam angelus dictus sit\n",
      "\n",
      "Match 2 (score 95.36423841059603):\n",
      "  s1: nemo surrexit, adeo magnus, ut longe ante per prophetam, angelus dictus sit\n",
      "  s2: quo maior non surrexit adeo magnus, ut longe ante per prophetam angelus dictus sit\n",
      "\n",
      "Match 3 (score 92.85714285714286):\n",
      "  s1: surrexit, adeo magnus, ut longe ante per prophetam, angelus dictus sit.\n",
      "  s2: , quo maior non surrexit adeo magnus, ut longe ante per prophetam angelus dictus\n"
     ]
    }
   ],
   "source": [
    "\n",
    "s1 = \"Fuit homo missus a Deo, cui nomen erat Joannes, hic uenit in testimonium, siquidem et alii prophetae homines fuerunt et omnes a Deo missi sunt, et nomine Joannis multi homines aequeuocati sunt. Diligentius ergo pensanda sunt, quia non exili elocutione, sed grandi declamatione prolata sunt. Uidelicet tali in loco uel causa sic nominatus homo fuit, multum suscipiendus, longe dissimilis hominibus multis, utpote quo maior inter natos mulierum nemo surrexit, adeo magnus, ut longe ante per prophetam, angelus dictus sit.\"\n",
    "s2 = \"Congrue autem hominem eum nominat, fuit enim hoc nomine dignissimus, ut qui non fuit ex eorum numero, qui cum in honore essent, non intelligentes, comparati sunt iumentis insipientibus. Homo igitur erat Ioannes, sed multum suscipiendus, longe dissimilis hominibus aliis, utpote, quo maior non surrexit adeo magnus, ut longe ante per prophetam angelus dictus sit\"\n",
    "matches = fuzzy_match_spans(s1, s2, window_size=15, threshold=70)\n",
    "\n",
    "for i, match in enumerate(matches[:3], 1):\n",
    "    print(f\"\\nMatch {i} (score {match['score']}):\")\n",
    "    print(\"  s1:\", match['s1_text'])\n",
    "    print(\"  s2:\", match['s2_text'])\n"
   ]
  },
  {
   "cell_type": "code",
   "execution_count": 85,
   "id": "8ad26497-07fc-481d-9e71-3eb2a0e7150e",
   "metadata": {},
   "outputs": [],
   "source": [
    "\n",
    "s1= \"Ubi enim ulla, quae maioris pretii sit, reperiri potest? Hanc animarum uerus amator Deus, dilectae Joannis animae, pro monumento dilectionis praecipuae, fixit in pectore. Ut Uerbum, quod Maria Uirgo sola protulit in carne, ipsum huius socia uirginitas, prae omnibus sanctis, uiua mortalibus promeret uoce. Danda ergo sunt omnia, ut haec sola margarita comparari queat, omnesque carnalium sordes affectuum, ab oculis cordis abstergendae sunt eis, qui in schola Christi uenerabilibus student litteris: ut hanc aliquatenus ualeant aquilam prosequi, quam cordis munditia iuuit, ut claritatem solis aeterni plus caeteris diuinae uisionis [Col.0205D] animalibus, irreuerberata possint mentis acie contemplari. Nam de eo, qui per munditiae uiam ad ueram tendit sapientiam, loquitur Dominus per Isaiam: Iste in excelsis habitabit, munimenta saxorum sublimitas eius, panis ei datus est, aquae eius fidelis sunt. Regem in decore suo uidebunt oculi eius, cernent terram de longe (Isa. XXXIII). Imo, quod ad rem euidentius attinet, hic, sicut ad beatum Job, aliis quidem uerbis, sed eodem sensu dictum est: Ad praeceptum Domini eleuabitur, ut aquila in arduis ponet nidum suum, in petris manet, et in praeruptis silicibus commoratur atque inaccessis rupibus. Inde contemplatur escam, oculi eius de longe prospiciunt (Job XXXIX). Et quidem, haec omnia Joannes, huius Uerbi ac sempiterni principii contemplator excelsus, magnifice assecutus est. Quia uidelicet eleuatus est ut aquila, apertos intendens oculos in Diuinitatis radios, et in arduis posuit nidum suum, id est, aeterni huius Euangelii sui munimentum in petris mansit, id est, in soliditate ueritatis. Atque inde contemplatus est escam, scilicet illam quam et attingere meruit, huius Uerbi sempiterni gloriam.\"\n",
    "s2= \"Praeterea uides hic, quam merito Sanctus ille Ioannes inter alia animalia, aquilae comparetur. Aquilae enim conditiones sunt, quod supra alias aues uolat, in excelsis ponit nidum suum, inde contemplatur escam\"\n",
    "\n",
    "matches = fuzzy_match_spans(s1, s2, window_size=15, threshold=70)\n",
    "\n",
    "for i, match in enumerate(matches[:3], 1):\n",
    "    print(f\"\\nMatch {i} (score {match['score']}):\")\n",
    "    print(\"  s1:\", match['s1_text'])\n",
    "    print(\"  s2:\", match['s2_text'])\n"
   ]
  },
  {
   "cell_type": "code",
   "execution_count": 8,
   "id": "b34921eb-6ef3-4e9e-9555-6fddaa9e2c57",
   "metadata": {},
   "outputs": [],
   "source": [
    "\n",
    "s1=\"sy hand einen pundt miteinander yngeschnitten, quemadmodum apud nos schedas excindimus.\"\n",
    "s2=\"In Hebraeo habetur exciderunt foedus, quemadmodum apud nos schaedas excindimus.\"\n",
    "matches = fuzzy_match_spans(s1, s2, window_size=15, threshold=70)\n",
    "\n",
    "for i, match in enumerate(matches[:3], 1):\n",
    "    print(f\"\\nMatch {i} (score {match['score']}):\")\n",
    "    print(\"  s1:\", match['s1_text'])\n",
    "    print(\"  s2:\", match['s2_text'])\n"
   ]
  },
  {
   "cell_type": "code",
   "execution_count": 67,
   "id": "77c9a2f5-cd79-42ca-8a02-bc21b30f6d0b",
   "metadata": {},
   "outputs": [],
   "source": [
    "from rapidfuzz import fuzz\n",
    "import spacy\n",
    "\n",
    "nlp = spacy.load(\"la_core_web_lg\")\n",
    "\n",
    "def get_dynamic_window_bounds(len1, len2, min_limit=10, max_limit=20):\n",
    "    avg_len = (len1 + len2) / 2\n",
    "    min_window = max(min_limit, int(avg_len * 0.2))\n",
    "    max_window = min(max_limit, int(avg_len * 0.6))\n",
    "    return min_window, max_window\n",
    "\n",
    "\n",
    "def fuzzy_match_spans_dynamic(s1, s2, threshold=80):\n",
    "    doc1 = nlp(s1)\n",
    "    doc2 = nlp(s2)\n",
    "\n",
    "    tokens1 = [token.lemma_ for token in doc1 if not token.is_punct]\n",
    "    tokens2 = [token.lemma_ for token in doc2 if not token.is_punct]\n",
    "\n",
    "    min_window, max_window = get_dynamic_window_bounds(len(tokens1), len(tokens2))\n",
    "\n",
    "    results = []\n",
    "\n",
    "    for window_size in range(min_window, max_window + 1):\n",
    "        for i in range(len(tokens1) - window_size + 1):\n",
    "            span1 = tokens1[i:i+window_size]\n",
    "            str1 = \" \".join(span1)\n",
    "\n",
    "            for j in range(len(tokens2) - window_size + 1):\n",
    "                span2 = tokens2[j:j+window_size]\n",
    "                str2 = \" \".join(span2)\n",
    "\n",
    "                score = fuzz.token_set_ratio(str1, str2)\n",
    "                adjusted_score = score * (window_size / max_window)\n",
    "\n",
    "                if adjusted_score >= threshold:\n",
    "                    start1 = doc1[i].idx\n",
    "                    end1 = doc1[i + window_size - 1].idx + \\\n",
    "                        len(doc1[i + window_size - 1])\n",
    "                    start2 = doc2[j].idx\n",
    "                    end2 = doc2[j + window_size - 1].idx + \\\n",
    "                        len(doc2[j + window_size - 1])\n",
    "\n",
    "                    results.append({\n",
    "                        \"score\": score,\n",
    "                        \"s1_tokens\": span1,\n",
    "                        \"s2_tokens\": span2,\n",
    "                        \"s1_text\": s1[start1:end1],\n",
    "                        \"s2_text\": s2[start2:end2],\n",
    "                        \"s1_span\": (start1, end1),\n",
    "                        \"s2_span\": (start2, end2)\n",
    "                    })\n",
    "\n",
    "    return sorted(results, key=lambda x: x[\"score\"], reverse=True)\n"
   ]
  },
  {
   "cell_type": "code",
   "execution_count": 68,
   "id": "a4b94159-e347-4fbb-93d8-b893470d2691",
   "metadata": {},
   "outputs": [],
   "source": [
    "\n",
    "s1=\"Utrumque datum donum huius baptismi, hic idem Joannes Baptista apud euangelistas Matthaeum et Lucam exprimit, cum dicit: Ipse uos baptizabit in Spiritu sancto et igni. Baptizat enim nos Spiritu sancto, cum in fontem baptismi descendente inuisibili gratia eiusdem Spiritus sancti omnia peccata eorum, qui baptizantur, dimittit.\"\n",
    "s2=\"Huc pertinet, quod Ioannes apud Matthaeum dixit. Ipse baptizabit Spiritu sancto, et igni. Spiritu sancto baptizat, cum peccata remittit:\"\n",
    "matches = fuzzy_match_spans_dynamic(s1, s2)\n",
    "\n",
    "for i, match in enumerate(matches[:3], 1):\n",
    "    print(f\"\\nMatch {i} (score {match['score']}):\")\n",
    "    print(\"  s1:\", match['s1_text'])\n",
    "    print(\"  s2:\", match['s2_text'])"
   ]
  },
  {
   "cell_type": "code",
   "execution_count": 69,
   "id": "1cb63277-4d02-42b1-ae9d-0fd40fdf2b6c",
   "metadata": {},
   "outputs": [
    {
     "name": "stdout",
     "output_type": "stream",
     "text": [
      "\n",
      "Match 1 (score 92.0):\n",
      "  s1: nunc cognoui quod timeas Dominum, et non pepercisti unigenito filio\n",
      "  s2: quicquam, quoniam nunc cognoui quod times tu deum, quod\n",
      "\n",
      "Match 2 (score 85.98130841121495):\n",
      "  s1: nunc cognoui quod timeas Dominum, et non pepercisti unigenito filio tuo\n",
      "  s2: quicquam, quoniam nunc cognoui quod times tu deum, quod non\n",
      "\n",
      "Match 3 (score 85.18518518518519):\n",
      "  s1: nunc cognoui quod timeas Dominum, et non pepercisti unigenito filio tuo\n",
      "  s2: ei quicquam, quoniam nunc cognoui quod times tu deum, quod\n"
     ]
    }
   ],
   "source": [
    "\n",
    "s1 = \"nunc cognoui quod timeas Dominum, et non pepercisti unigenito filio tuo propter ne.\"\n",
    "s2 = \"Ebraica magis sunt elegantia, Ne extendas manum tuam super puerum, nec feceris ei quicquam, quoniam nunc cognoui quod times tu deum, quod non pepercisti filio tuo unico a me.\"\n",
    "\n",
    "matches = fuzzy_match_spans_dynamic(s1, s2)\n",
    "\n",
    "for i, match in enumerate(matches[:3], 1):\n",
    "    print(f\"\\nMatch {i} (score {match['score']}):\")\n",
    "    print(\"  s1:\", match['s1_text'])\n",
    "    print(\"  s2:\", match['s2_text'])"
   ]
  },
  {
   "cell_type": "code",
   "execution_count": 70,
   "id": "144d509e-eda7-465a-b69e-3cdcc82c262c",
   "metadata": {},
   "outputs": [
    {
     "name": "stdout",
     "output_type": "stream",
     "text": [
      "\n",
      "Match 1 (score 82.64462809917356):\n",
      "  s1: Non ergo sic tentat, ut exploret ea, quae prius nescierit, sed fidem nostram\n",
      "  s2: Tentauit autem Abrahamum Deus, non ut exploret ea quae prius nesciret, sed ut Abrahae\n",
      "\n",
      "Match 2 (score 80.0):\n",
      "  s1: tentat, ut exploret ea, quae prius nescierit, sed fidem nostram tentat deus,\n",
      "  s2: Tentauit autem Abrahamum Deus, non ut exploret ea quae prius nesciret, sed ut Abrahae\n"
     ]
    }
   ],
   "source": [
    "\n",
    "s1=\"Non ergo sic tentat, ut exploret ea, quae prius nescierit, sed fidem nostram tentat deus, ut nos erudiat, ut Abra hae fidem illustrem ac manifestam faciat nobisque huiusmodi exempla ad imitanda proponat.\"\n",
    "s2=\"Tentauit autem Abrahamum Deus, non ut exploret ea quae prius nesciret, sed ut Abrahae fidem illustriorem faciat, nobisque huiusmodi exempla imitanda proponat.\"\n",
    "matches = fuzzy_match_spans_dynamic(s1, s2)\n",
    "\n",
    "for i, match in enumerate(matches[:3], 1):\n",
    "    print(f\"\\nMatch {i} (score {match['score']}):\")\n",
    "    print(\"  s1:\", match['s1_text'])\n",
    "    print(\"  s2:\", match['s2_text'])\n"
   ]
  },
  {
   "cell_type": "code",
   "execution_count": 71,
   "id": "c9458499-6206-40e5-8c3c-533026bea116",
   "metadata": {},
   "outputs": [],
   "source": [
    "\n",
    "s1=\"Uel certe, ut iam secundum Scripturam aliam loquar, quod factum est, spectabilis atque deliciosus coram sapientiae suae Deo ludus erat. Sic enim dicit ipsa, quae est hoc Dei Uerbum, Sapientia\"\n",
    "s2=\"Uel aliter: Quod factum est, hoc est, ipsa opera Domini antequam fierent, iam erant uita ipsius uerbi, hoc est, quasi ludus quidam, in quo mire delectabatur, etiam antequam fierent, quemadmodum sapientia Dei dicit\"\n",
    "matches = fuzzy_match_spans_dynamic(s1, s2)\n",
    "\n",
    "for i, match in enumerate(matches[:3], 1):\n",
    "    print(f\"\\nMatch {i} (score {match['score']}):\")\n",
    "    print(\"  s1:\", match['s1_text'])\n",
    "    print(\"  s2:\", match['s2_text'])\n"
   ]
  },
  {
   "cell_type": "code",
   "execution_count": 72,
   "id": "da3d3768-57a4-448e-8db8-f464f444a3fb",
   "metadata": {},
   "outputs": [
    {
     "name": "stdout",
     "output_type": "stream",
     "text": [
      "\n",
      "Match 1 (score 96.93251533742331):\n",
      "  s1: Docet autem Moses, quod sicut per sese gigni res non potuere, ita nec per sese perfici,\n",
      "  s2: Docet autem Moses hoc uerbo, quod sicut res per sese gigni non potuerit, ita nec per sese\n",
      "\n",
      "Match 2 (score 96.6887417218543):\n",
      "  s1: autem Moses, quod sicut per sese gigni res non potuere, ita nec per sese perfici,\n",
      "  s2: autem Moses hoc uerbo, quod sicut res per sese gigni non potuerit, ita nec per sese\n",
      "\n",
      "Match 3 (score 96.6887417218543):\n",
      "  s1: , quod sicut per sese gigni res non potuere, ita nec per sese perfici, et ut\n",
      "  s2: , quod sicut res per sese gigni non potuerit, ita nec per sese perfici. Et sicut\n"
     ]
    }
   ],
   "source": [
    "\n",
    "s1=\"Docet autem Moses, quod sicut per sese gigni res non potuere, ita nec per sese perfici, et ut antem de conditione diximus, ita nunc de rerum conseruatione et perfectione dicendum est.\"\n",
    "s2=\"Docet autem Moses hoc uerbo, quod sicut res per sese gigni non potuerit, ita nec per sese perfici. Et sicut ante de conditione rerum dictum est, sic nunc de perfectione rerum dicendum et conseruatione.\"\n",
    "\n",
    "matches = fuzzy_match_spans_dynamic(s1, s2)\n",
    "\n",
    "for i, match in enumerate(matches[:3], 1):\n",
    "    print(f\"\\nMatch {i} (score {match['score']}):\")\n",
    "    print(\"  s1:\", match['s1_text'])\n",
    "    print(\"  s2:\", match['s2_text'])\n"
   ]
  },
  {
   "cell_type": "code",
   "execution_count": 73,
   "id": "54a69875-e383-4767-a912-af28f936ab6e",
   "metadata": {},
   "outputs": [
    {
     "name": "stdout",
     "output_type": "stream",
     "text": [
      "\n",
      "Match 1 (score 86.74698795180723):\n",
      "  s1: recursurus est, illi prius hinc per uiam uniuersae carnis recurrerunt, quam praestolatum Domini\n",
      "  s2: aliorum uelociores cursores fuerunt: quia prius uiam uniuersae carnis intrauerunt, quam praestolatū Domini\n",
      "\n",
      "Match 2 (score 86.07594936708861):\n",
      "  s1: est, illi prius hinc per uiam uniuersae carnis recurrerunt, quam praestolatum Domini\n",
      "  s2: uelociores cursores fuerunt: quia prius uiam uniuersae carnis intrauerunt, quam praestolatū Domini\n",
      "\n",
      "Match 3 (score 85.13513513513513):\n",
      "  s1: quos recursurus est, illi prius hinc per uiam uniuersae carnis recurrerunt, quam praestolatum\n",
      "  s2: dies aliorum uelociores cursores fuerunt: quia prius uiam uniuersae carnis intrauerunt, quam praestolatū\n"
     ]
    }
   ],
   "source": [
    "\n",
    "s1=\"Quia uidelicet cum sit cursoris officium, uel tantillum exspectare donec uideat quid nuntiet eis ad quos recursurus est, illi prius hinc per uiam uniuersae carnis recurrerunt, quam praestolatum Domini uidere mererentur aduentum. \"\n",
    "s2=\"Primo, siquidem quia dies aliorum uelociores cursores fuerunt: quia prius uiam uniuersae carnis intrauerunt, quam praestolatū Domini mererentur uidere aduentum.\"\n",
    "\n",
    "matches = fuzzy_match_spans_dynamic(s1, s2)\n",
    "\n",
    "for i, match in enumerate(matches[:3], 1):\n",
    "    print(f\"\\nMatch {i} (score {match['score']}):\")\n",
    "    print(\"  s1:\", match['s1_text'])\n",
    "    print(\"  s2:\", match['s2_text'])\n"
   ]
  },
  {
   "cell_type": "code",
   "execution_count": 74,
   "id": "02404347-7b01-40d8-9307-7e56b854b35e",
   "metadata": {},
   "outputs": [
    {
     "name": "stdout",
     "output_type": "stream",
     "text": [
      "\n",
      "Match 1 (score 89.70588235294117):\n",
      "  s1: Tenebrae increduli, pro Hebraeorum phrasi, qua reliquiae pro reliquis\n",
      "  s2: eos nominat Hebraica phrasi, qua reliquiae pro reliquis, saluatio\n",
      "\n",
      "Match 2 (score 89.70588235294117):\n",
      "  s1: increduli, pro Hebraeorum phrasi, qua reliquiae pro reliquis,\n",
      "  s2: eos nominat Hebraica phrasi, qua reliquiae pro reliquis, saluatio\n",
      "\n",
      "Match 3 (score 85.91549295774648):\n",
      "  s1: Tenebrae increduli, pro Hebraeorum phrasi, qua reliquiae pro reliquis,\n",
      "  s2: autem eos nominat Hebraica phrasi, qua reliquiae pro reliquis, saluatio\n"
     ]
    }
   ],
   "source": [
    "\n",
    "s1=\"Tenebrae hoc loco, sunt impii homines, et Tenebrae increduli, pro Hebraeorum phrasi, qua reliquiae pro reliquis, Saluatio pro saluatis, Perditio pro perditis\"\n",
    "s2= \"Tenebras autem eos nominat Hebraica phrasi, qua reliquiae pro reliquis, saluatio pro saluatis, circumcisio pro circumcisis, frequenter ponitur.\"\n",
    "matches = fuzzy_match_spans_dynamic(s1, s2)\n",
    "\n",
    "for i, match in enumerate(matches[:3], 1):\n",
    "    print(f\"\\nMatch {i} (score {match['score']}):\")\n",
    "    print(\"  s1:\", match['s1_text'])\n",
    "    print(\"  s2:\", match['s2_text'])\n"
   ]
  },
  {
   "cell_type": "code",
   "execution_count": null,
   "id": "4d14286c-6b60-45cb-9522-f49260ebd8fb",
   "metadata": {},
   "outputs": [],
   "source": []
  }
 ],
 "metadata": {
  "kernelspec": {
   "display_name": "Python 3 (ipykernel)",
   "language": "python",
   "name": "python3"
  },
  "language_info": {
   "codemirror_mode": {
    "name": "ipython",
    "version": 3
   },
   "file_extension": ".py",
   "mimetype": "text/x-python",
   "name": "python",
   "nbconvert_exporter": "python",
   "pygments_lexer": "ipython3",
   "version": "3.10.16"
  }
 },
 "nbformat": 4,
 "nbformat_minor": 5
}
