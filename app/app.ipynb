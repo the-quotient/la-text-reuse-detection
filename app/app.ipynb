{
 "cells": [
  {
   "cell_type": "code",
   "execution_count": 5,
   "id": "62fc1f6b-3c84-447d-a335-41bf9db99a6e",
   "metadata": {},
   "outputs": [
    {
     "name": "stdout",
     "output_type": "stream",
     "text": [
      "Loading Sentence Transformer Model...\n",
      "\n",
      "Embedding queries...\n"
     ]
    },
    {
     "data": {
      "application/vnd.jupyter.widget-view+json": {
       "model_id": "e6e774ca62724e7c875aa47b5b02e264",
       "version_major": 2,
       "version_minor": 0
      },
      "text/plain": [
       "Batches:   0%|          | 0/41 [00:00<?, ?it/s]"
      ]
     },
     "metadata": {},
     "output_type": "display_data"
    },
    {
     "name": "stdout",
     "output_type": "stream",
     "text": [
      "\n",
      "\n",
      "\n",
      " Processing: Bullinger_Joh.jsonl\n",
      "Embedding candidates...\n"
     ]
    },
    {
     "data": {
      "application/vnd.jupyter.widget-view+json": {
       "model_id": "8e0060e86b334788a378fda61e18bd1d",
       "version_major": 2,
       "version_minor": 0
      },
      "text/plain": [
       "Batches:   0%|          | 0/357 [00:00<?, ?it/s]"
      ]
     },
     "metadata": {},
     "output_type": "display_data"
    },
    {
     "name": "stdout",
     "output_type": "stream",
     "text": [
      " Candidates embedded.\n",
      "\n",
      "10 3354\n"
     ]
    },
    {
     "name": "stderr",
     "output_type": "stream",
     "text": [
      "100%|███████████████████████████████████████████████████████████| 3354/3354 [02:27<00:00, 22.81it/s]\n"
     ]
    },
    {
     "name": "stdout",
     "output_type": "stream",
     "text": [
      "47\n"
     ]
    },
    {
     "name": "stderr",
     "output_type": "stream",
     "text": [
      "100%|███████████████████████████████████████████████████████████| 3307/3307 [02:25<00:00, 22.78it/s]"
     ]
    },
    {
     "name": "stdout",
     "output_type": "stream",
     "text": [
      "677\n",
      " Saved: ../results/Wild_Joh1_(BEm7,t676,fqt925,CEPw10,pt6,CESw2,st7)/Comp_Wild_Joh1_Bullinger_Joh.json\n",
      "\n",
      " Processing: Brenz_Joh.jsonl\n",
      "Embedding candidates...\n"
     ]
    },
    {
     "name": "stderr",
     "output_type": "stream",
     "text": [
      "\n"
     ]
    },
    {
     "data": {
      "application/vnd.jupyter.widget-view+json": {
       "model_id": "de19a1f0fdc74637ad341f66969dcc21",
       "version_major": 2,
       "version_minor": 0
      },
      "text/plain": [
       "Batches:   0%|          | 0/209 [00:00<?, ?it/s]"
      ]
     },
     "metadata": {},
     "output_type": "display_data"
    },
    {
     "name": "stdout",
     "output_type": "stream",
     "text": [
      " Candidates embedded.\n",
      "\n",
      "70 2683\n"
     ]
    },
    {
     "name": "stderr",
     "output_type": "stream",
     "text": [
      "100%|███████████████████████████████████████████████████████████| 2683/2683 [01:56<00:00, 22.95it/s]\n"
     ]
    },
    {
     "name": "stdout",
     "output_type": "stream",
     "text": [
      "62\n"
     ]
    },
    {
     "name": "stderr",
     "output_type": "stream",
     "text": [
      "100%|███████████████████████████████████████████████████████████| 2621/2621 [01:59<00:00, 21.93it/s]"
     ]
    },
    {
     "name": "stdout",
     "output_type": "stream",
     "text": [
      "648\n",
      " Saved: ../results/Wild_Joh1_(BEm7,t676,fqt925,CEPw10,pt6,CESw2,st7)/Comp_Wild_Joh1_Brenz_Joh.json\n",
      "\n",
      " Processing: Melanchthon_Joh.jsonl\n",
      "Embedding candidates...\n"
     ]
    },
    {
     "name": "stderr",
     "output_type": "stream",
     "text": [
      "\n"
     ]
    },
    {
     "data": {
      "application/vnd.jupyter.widget-view+json": {
       "model_id": "5da063f432b947b1b1f214f77dc09a74",
       "version_major": 2,
       "version_minor": 0
      },
      "text/plain": [
       "Batches:   0%|          | 0/72 [00:00<?, ?it/s]"
      ]
     },
     "metadata": {},
     "output_type": "display_data"
    },
    {
     "name": "stdout",
     "output_type": "stream",
     "text": [
      " Candidates embedded.\n",
      "\n",
      "22 1829\n"
     ]
    },
    {
     "name": "stderr",
     "output_type": "stream",
     "text": [
      "100%|███████████████████████████████████████████████████████████| 1829/1829 [01:20<00:00, 22.72it/s]\n"
     ]
    },
    {
     "name": "stdout",
     "output_type": "stream",
     "text": [
      "58\n"
     ]
    },
    {
     "name": "stderr",
     "output_type": "stream",
     "text": [
      "100%|███████████████████████████████████████████████████████████| 1771/1771 [01:16<00:00, 23.05it/s]"
     ]
    },
    {
     "name": "stdout",
     "output_type": "stream",
     "text": [
      "451\n",
      " Saved: ../results/Wild_Joh1_(BEm7,t676,fqt925,CEPw10,pt6,CESw2,st7)/Comp_Wild_Joh1_Melanchthon_Joh.json\n",
      "\n",
      " Processing: Melanchthon_Joh1.jsonl\n",
      "Embedding candidates...\n"
     ]
    },
    {
     "name": "stderr",
     "output_type": "stream",
     "text": [
      "\n"
     ]
    },
    {
     "data": {
      "application/vnd.jupyter.widget-view+json": {
       "model_id": "9a158947f1364f9e951ea3ecb851862c",
       "version_major": 2,
       "version_minor": 0
      },
      "text/plain": [
       "Batches:   0%|          | 0/15 [00:00<?, ?it/s]"
      ]
     },
     "metadata": {},
     "output_type": "display_data"
    },
    {
     "name": "stdout",
     "output_type": "stream",
     "text": [
      " Candidates embedded.\n",
      "\n",
      "16 1102\n"
     ]
    },
    {
     "name": "stderr",
     "output_type": "stream",
     "text": [
      "100%|███████████████████████████████████████████████████████████| 1102/1102 [00:46<00:00, 23.90it/s]\n"
     ]
    },
    {
     "name": "stdout",
     "output_type": "stream",
     "text": [
      "44\n"
     ]
    },
    {
     "name": "stderr",
     "output_type": "stream",
     "text": [
      "100%|███████████████████████████████████████████████████████████| 1058/1058 [00:44<00:00, 23.71it/s]"
     ]
    },
    {
     "name": "stdout",
     "output_type": "stream",
     "text": [
      "293\n",
      " Saved: ../results/Wild_Joh1_(BEm7,t676,fqt925,CEPw10,pt6,CESw2,st7)/Comp_Wild_Joh1_Melanchthon_Joh1.json\n",
      "\n",
      " Processing: Tuitiensis_Joh.jsonl\n",
      "Embedding candidates...\n"
     ]
    },
    {
     "name": "stderr",
     "output_type": "stream",
     "text": [
      "\n"
     ]
    },
    {
     "data": {
      "application/vnd.jupyter.widget-view+json": {
       "model_id": "0d7b77241d39477980ab0b9ebfbbed43",
       "version_major": 2,
       "version_minor": 0
      },
      "text/plain": [
       "Batches:   0%|          | 0/341 [00:00<?, ?it/s]"
      ]
     },
     "metadata": {},
     "output_type": "display_data"
    },
    {
     "name": "stdout",
     "output_type": "stream",
     "text": [
      " Candidates embedded.\n",
      "\n",
      "55 3189\n"
     ]
    },
    {
     "name": "stderr",
     "output_type": "stream",
     "text": [
      "100%|███████████████████████████████████████████████████████████| 3189/3189 [02:20<00:00, 22.62it/s]\n"
     ]
    },
    {
     "name": "stdout",
     "output_type": "stream",
     "text": [
      "83\n"
     ]
    },
    {
     "name": "stderr",
     "output_type": "stream",
     "text": [
      "100%|███████████████████████████████████████████████████████████| 3106/3106 [02:13<00:00, 23.32it/s]"
     ]
    },
    {
     "name": "stdout",
     "output_type": "stream",
     "text": [
      "634\n",
      " Saved: ../results/Wild_Joh1_(BEm7,t676,fqt925,CEPw10,pt6,CESw2,st7)/Comp_Wild_Joh1_Tuitiensis_Joh.json\n",
      "\n",
      " Processing: Erasmus_Joh1.jsonl\n",
      "Embedding candidates...\n"
     ]
    },
    {
     "name": "stderr",
     "output_type": "stream",
     "text": [
      "\n"
     ]
    },
    {
     "data": {
      "application/vnd.jupyter.widget-view+json": {
       "model_id": "4951de1f39b64dbe929eb8234f0d546d",
       "version_major": 2,
       "version_minor": 0
      },
      "text/plain": [
       "Batches:   0%|          | 0/13 [00:00<?, ?it/s]"
      ]
     },
     "metadata": {},
     "output_type": "display_data"
    },
    {
     "name": "stdout",
     "output_type": "stream",
     "text": [
      " Candidates embedded.\n",
      "\n",
      "10 639\n"
     ]
    },
    {
     "name": "stderr",
     "output_type": "stream",
     "text": [
      "100%|█████████████████████████████████████████████████████████████| 639/639 [00:28<00:00, 22.72it/s]\n"
     ]
    },
    {
     "name": "stdout",
     "output_type": "stream",
     "text": [
      "8\n"
     ]
    },
    {
     "name": "stderr",
     "output_type": "stream",
     "text": [
      "100%|█████████████████████████████████████████████████████████████| 631/631 [00:27<00:00, 22.82it/s]"
     ]
    },
    {
     "name": "stdout",
     "output_type": "stream",
     "text": [
      "126\n",
      " Saved: ../results/Wild_Joh1_(BEm7,t676,fqt925,CEPw10,pt6,CESw2,st7)/Comp_Wild_Joh1_Erasmus_Joh1.json\n"
     ]
    },
    {
     "name": "stderr",
     "output_type": "stream",
     "text": [
      "\n"
     ]
    }
   ],
   "source": [
    "import os\n",
    "\n",
    "from detect import run_pipeline\n",
    "\n",
    "QUERY_FILE=\"../data/corpus/documents/Wild_Joh1.jsonl\"\n",
    "CANDIDATE_FOLDER=\"../data/corpus/books/Joh1/\"\n",
    "RESULT_FOLDER=\"../results/Wild_Joh1_(BEm7,t676,fqt925,CEPw10,pt6,CESw2,st7)/\"\n",
    "\n",
    "MODEL_FOLDER = \"../models/v2/\"\n",
    "\n",
    "RETRIEVER = \"BEmargin_7_0\" \n",
    "RERANKER_P = \"CEPweight_10_0\"\n",
    "RERANKER_S = \"CESweight_2_0\" \n",
    "\n",
    "FUZZY_QUOTE_THRESHOLD = 0.925\n",
    "K = 5\n",
    "RETRIEVE_THRESHOLD = 0.676\n",
    "RERANK_THRESHOLD_P = 0.6\n",
    "RERANK_THRESHOLD_S = 0.7\n",
    "\n",
    "\n",
    "run_pipeline(\n",
    "    QUERY_FILE, CANDIDATE_FOLDER, RESULT_FOLDER,\n",
    "    os.path.join(MODEL_FOLDER, RETRIEVER), \n",
    "    os.path.join(MODEL_FOLDER, RERANKER_P),\n",
    "    os.path.join(MODEL_FOLDER, RERANKER_S),\n",
    "    FUZZY_QUOTE_THRESHOLD, K, RETRIEVE_THRESHOLD, \n",
    "    RERANK_THRESHOLD_P, RERANK_THRESHOLD_S\n",
    ")\n"
   ]
  },
  {
   "cell_type": "code",
   "execution_count": null,
   "id": "e772bc89-d8d6-49b4-b945-9fa1ffcadaed",
   "metadata": {},
   "outputs": [],
   "source": []
  }
 ],
 "metadata": {
  "kernelspec": {
   "display_name": "Python 3 (ipykernel)",
   "language": "python",
   "name": "python3"
  },
  "language_info": {
   "codemirror_mode": {
    "name": "ipython",
    "version": 3
   },
   "file_extension": ".py",
   "mimetype": "text/x-python",
   "name": "python",
   "nbconvert_exporter": "python",
   "pygments_lexer": "ipython3",
   "version": "3.10.16"
  }
 },
 "nbformat": 4,
 "nbformat_minor": 5
}
