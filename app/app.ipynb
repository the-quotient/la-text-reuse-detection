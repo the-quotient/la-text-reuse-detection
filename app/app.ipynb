{
 "cells": [
  {
   "cell_type": "code",
   "execution_count": 11,
   "id": "2dcdd8f3-665e-4a26-9fbe-466d4a079302",
   "metadata": {},
   "outputs": [
    {
     "name": "stdout",
     "output_type": "stream",
     "text": [
      "Loading Sentence Transformer Model...\n",
      "\n",
      "Embedding queries...\n"
     ]
    },
    {
     "data": {
      "application/vnd.jupyter.widget-view+json": {
       "model_id": "39542e15491a49ab8d1dd015788748b9",
       "version_major": 2,
       "version_minor": 0
      },
      "text/plain": [
       "Batches:   0%|          | 0/18 [00:00<?, ?it/s]"
      ]
     },
     "metadata": {},
     "output_type": "display_data"
    },
    {
     "name": "stdout",
     "output_type": "stream",
     "text": [
      "\n",
      "\n",
      "\n",
      " Processing: Tuitiensis_Mt.jsonl\n",
      "Embedding candidates...\n"
     ]
    },
    {
     "data": {
      "application/vnd.jupyter.widget-view+json": {
       "model_id": "23a4cceeccbd44d3847b16c1c61ed172",
       "version_major": 2,
       "version_minor": 0
      },
      "text/plain": [
       "Batches:   0%|          | 0/172 [00:00<?, ?it/s]"
      ]
     },
     "metadata": {},
     "output_type": "display_data"
    },
    {
     "name": "stdout",
     "output_type": "stream",
     "text": [
      " Candidates embedded.\n",
      "\n",
      "24 612\n"
     ]
    },
    {
     "name": "stderr",
     "output_type": "stream",
     "text": [
      "100%|████████████████████████████████████████████████████████████████████████████████████████████████████████████████████████████████████████████████████████████████████████████████████████████████| 612/612 [00:25<00:00, 24.01it/s]\n"
     ]
    },
    {
     "name": "stdout",
     "output_type": "stream",
     "text": [
      "7\n"
     ]
    },
    {
     "name": "stderr",
     "output_type": "stream",
     "text": [
      "100%|████████████████████████████████████████████████████████████████████████████████████████████████████████████████████████████████████████████████████████████████████████████████████████████████| 605/605 [00:26<00:00, 23.08it/s]\n"
     ]
    },
    {
     "name": "stdout",
     "output_type": "stream",
     "text": [
      "109\n",
      " Saved: ../results/Wild_Mt7/Comp_Wild_Mt7_Tuitiensis_Mt.json\n",
      "\n",
      " Processing: Bullinger_Mt.jsonl\n",
      "Embedding candidates...\n"
     ]
    },
    {
     "data": {
      "application/vnd.jupyter.widget-view+json": {
       "model_id": "5f4d2a4de32e49e092d62d69ec8ec35a",
       "version_major": 2,
       "version_minor": 0
      },
      "text/plain": [
       "Batches:   0%|          | 0/484 [00:00<?, ?it/s]"
      ]
     },
     "metadata": {},
     "output_type": "display_data"
    },
    {
     "name": "stdout",
     "output_type": "stream",
     "text": [
      " Candidates embedded.\n",
      "\n",
      "16 1261\n"
     ]
    },
    {
     "name": "stderr",
     "output_type": "stream",
     "text": [
      "100%|██████████████████████████████████████████████████████████████████████████████████████████████████████████████████████████████████████████████████████████████████████████████████████████████| 1261/1261 [00:52<00:00, 23.84it/s]\n"
     ]
    },
    {
     "name": "stdout",
     "output_type": "stream",
     "text": [
      "19\n"
     ]
    },
    {
     "name": "stderr",
     "output_type": "stream",
     "text": [
      "100%|██████████████████████████████████████████████████████████████████████████████████████████████████████████████████████████████████████████████████████████████████████████████████████████████| 1242/1242 [00:52<00:00, 23.77it/s]"
     ]
    },
    {
     "name": "stdout",
     "output_type": "stream",
     "text": [
      "182\n",
      " Saved: ../results/Wild_Mt7/Comp_Wild_Mt7_Bullinger_Mt.json\n",
      "\n",
      " Processing: Luther_Mt5-7.jsonl\n",
      "Embedding candidates...\n"
     ]
    },
    {
     "name": "stderr",
     "output_type": "stream",
     "text": [
      "\n"
     ]
    },
    {
     "data": {
      "application/vnd.jupyter.widget-view+json": {
       "model_id": "838878480d674adaa31504b2bd237d73",
       "version_major": 2,
       "version_minor": 0
      },
      "text/plain": [
       "Batches:   0%|          | 0/130 [00:00<?, ?it/s]"
      ]
     },
     "metadata": {},
     "output_type": "display_data"
    },
    {
     "name": "stdout",
     "output_type": "stream",
     "text": [
      " Candidates embedded.\n",
      "\n",
      "13 812\n"
     ]
    },
    {
     "name": "stderr",
     "output_type": "stream",
     "text": [
      "100%|████████████████████████████████████████████████████████████████████████████████████████████████████████████████████████████████████████████████████████████████████████████████████████████████| 812/812 [00:35<00:00, 23.13it/s]\n"
     ]
    },
    {
     "name": "stdout",
     "output_type": "stream",
     "text": [
      "9\n"
     ]
    },
    {
     "name": "stderr",
     "output_type": "stream",
     "text": [
      "100%|████████████████████████████████████████████████████████████████████████████████████████████████████████████████████████████████████████████████████████████████████████████████████████████████| 803/803 [00:35<00:00, 22.86it/s]"
     ]
    },
    {
     "name": "stdout",
     "output_type": "stream",
     "text": [
      "177\n",
      " Saved: ../results/Wild_Mt7/Comp_Wild_Mt7_Luther_Mt5-7.json\n",
      "\n",
      " Processing: Melanchthon_Mt7.jsonl\n",
      "Embedding candidates...\n"
     ]
    },
    {
     "name": "stderr",
     "output_type": "stream",
     "text": [
      "\n"
     ]
    },
    {
     "data": {
      "application/vnd.jupyter.widget-view+json": {
       "model_id": "84c664adf9734d8aa2e3d46e5a739ae6",
       "version_major": 2,
       "version_minor": 0
      },
      "text/plain": [
       "Batches:   0%|          | 0/31 [00:00<?, ?it/s]"
      ]
     },
     "metadata": {},
     "output_type": "display_data"
    },
    {
     "name": "stdout",
     "output_type": "stream",
     "text": [
      " Candidates embedded.\n",
      "\n",
      "5 183\n"
     ]
    },
    {
     "name": "stderr",
     "output_type": "stream",
     "text": [
      "100%|████████████████████████████████████████████████████████████████████████████████████████████████████████████████████████████████████████████████████████████████████████████████████████████████| 183/183 [00:07<00:00, 23.43it/s]\n"
     ]
    },
    {
     "name": "stdout",
     "output_type": "stream",
     "text": [
      "2\n"
     ]
    },
    {
     "name": "stderr",
     "output_type": "stream",
     "text": [
      "100%|████████████████████████████████████████████████████████████████████████████████████████████████████████████████████████████████████████████████████████████████████████████████████████████████| 181/181 [00:07<00:00, 22.65it/s]"
     ]
    },
    {
     "name": "stdout",
     "output_type": "stream",
     "text": [
      "38\n",
      " Saved: ../results/Wild_Mt7/Comp_Wild_Mt7_Melanchthon_Mt7.json\n"
     ]
    },
    {
     "name": "stderr",
     "output_type": "stream",
     "text": [
      "\n"
     ]
    }
   ],
   "source": [
    "import os\n",
    "\n",
    "from detect import run_pipeline\n",
    "\n",
    "QUERY_FILE=\"../data/corpus/documents/Wild_Mt7.jsonl\"\n",
    "CANDIDATE_FOLDER=\"../data/corpus/books/Mt7/\"\n",
    "RESULT_FOLDER=\"../results/Wild_Mt7/\"\n",
    "\n",
    "MODEL_FOLDER = \"../models/v2/\"\n",
    "\n",
    "RETRIEVER = \"BEmargin_7_0\" \n",
    "RERANKER_P = \"CEPweight_5_0\"\n",
    "RERANKER_S = \"CESweight_2_0\" \n",
    "\n",
    "FUZZY_QUOTE_THRESHOLD = 0.90\n",
    "K = 5\n",
    "RETRIEVE_THRESHOLD = 0.676\n",
    "RERANK_THRESHOLD_P = 0.6\n",
    "RERANK_THRESHOLD_S = 0.7\n",
    "\n",
    "\n",
    "run_pipeline(\n",
    "    QUERY_FILE, CANDIDATE_FOLDER, RESULT_FOLDER,\n",
    "    os.path.join(MODEL_FOLDER, RETRIEVER), \n",
    "    os.path.join(MODEL_FOLDER, RERANKER_P),\n",
    "    os.path.join(MODEL_FOLDER, RERANKER_S),\n",
    "    FUZZY_QUOTE_THRESHOLD, K, RETRIEVE_THRESHOLD, \n",
    "    RERANK_THRESHOLD_P, RERANK_THRESHOLD_S\n",
    ")\n"
   ]
  },
  {
   "cell_type": "code",
   "execution_count": 7,
   "id": "0988aeb1-6b24-47f5-bf1c-7c3f5ad9fc40",
   "metadata": {},
   "outputs": [
    {
     "name": "stdout",
     "output_type": "stream",
     "text": [
      "Loading Sentence Transformer Model...\n",
      "\n",
      "Embedding queries...\n"
     ]
    },
    {
     "data": {
      "application/vnd.jupyter.widget-view+json": {
       "model_id": "b1e2580088ff46f29c64058e4324a478",
       "version_major": 2,
       "version_minor": 0
      },
      "text/plain": [
       "Batches:   0%|          | 0/32 [00:00<?, ?it/s]"
      ]
     },
     "metadata": {},
     "output_type": "display_data"
    },
    {
     "name": "stdout",
     "output_type": "stream",
     "text": [
      "\n",
      "\n",
      "\n",
      " Processing: Tuitiensis_Mt.jsonl\n",
      "Embedding candidates...\n"
     ]
    },
    {
     "data": {
      "application/vnd.jupyter.widget-view+json": {
       "model_id": "152b02d28a5c4eb0a9ac561d7816c4a4",
       "version_major": 2,
       "version_minor": 0
      },
      "text/plain": [
       "Batches:   0%|          | 0/172 [00:00<?, ?it/s]"
      ]
     },
     "metadata": {},
     "output_type": "display_data"
    },
    {
     "name": "stdout",
     "output_type": "stream",
     "text": [
      " Candidates embedded.\n",
      "\n",
      "25 1038\n"
     ]
    },
    {
     "name": "stderr",
     "output_type": "stream",
     "text": [
      "100%|██████████████████████████████████████████████████████████████████████████████████████████████████████████████████████████████████████████████████████████████████████████████████████████████| 1038/1038 [00:47<00:00, 21.97it/s]\n"
     ]
    },
    {
     "name": "stdout",
     "output_type": "stream",
     "text": [
      "23\n"
     ]
    },
    {
     "name": "stderr",
     "output_type": "stream",
     "text": [
      "100%|██████████████████████████████████████████████████████████████████████████████████████████████████████████████████████████████████████████████████████████████████████████████████████████████| 1015/1015 [00:45<00:00, 22.27it/s]"
     ]
    },
    {
     "name": "stdout",
     "output_type": "stream",
     "text": [
      "118\n",
      " Saved: ../results/Wild_Mt9/Comp_Wild_Mt9_Tuitiensis_Mt.json\n",
      "\n",
      " Processing: Bullinger_Mt.jsonl\n",
      "Embedding candidates...\n"
     ]
    },
    {
     "name": "stderr",
     "output_type": "stream",
     "text": [
      "\n"
     ]
    },
    {
     "data": {
      "application/vnd.jupyter.widget-view+json": {
       "model_id": "0bf600b2bd60417db8828b7623701c70",
       "version_major": 2,
       "version_minor": 0
      },
      "text/plain": [
       "Batches:   0%|          | 0/484 [00:00<?, ?it/s]"
      ]
     },
     "metadata": {},
     "output_type": "display_data"
    },
    {
     "name": "stdout",
     "output_type": "stream",
     "text": [
      " Candidates embedded.\n",
      "\n",
      "20 2306\n"
     ]
    },
    {
     "name": "stderr",
     "output_type": "stream",
     "text": [
      "100%|██████████████████████████████████████████████████████████████████████████████████████████████████████████████████████████████████████████████████████████████████████████████████████████████| 2306/2306 [01:39<00:00, 23.07it/s]\n"
     ]
    },
    {
     "name": "stdout",
     "output_type": "stream",
     "text": [
      "25\n"
     ]
    },
    {
     "name": "stderr",
     "output_type": "stream",
     "text": [
      "100%|██████████████████████████████████████████████████████████████████████████████████████████████████████████████████████████████████████████████████████████████████████████████████████████████| 2281/2281 [01:38<00:00, 23.17it/s]"
     ]
    },
    {
     "name": "stdout",
     "output_type": "stream",
     "text": [
      "204\n",
      " Saved: ../results/Wild_Mt9/Comp_Wild_Mt9_Bullinger_Mt.json\n"
     ]
    },
    {
     "name": "stderr",
     "output_type": "stream",
     "text": [
      "\n"
     ]
    }
   ],
   "source": [
    "import os\n",
    "\n",
    "from detect import run_pipeline\n",
    "\n",
    "QUERY_FILE=\"../data/corpus/documents/Wild_Mt9.jsonl\"\n",
    "CANDIDATE_FOLDER=\"../data/corpus/books/Mt9/\"\n",
    "RESULT_FOLDER=\"../results/Wild_Mt9/\"\n",
    "\n",
    "MODEL_FOLDER = \"../models/v2/\"\n",
    "\n",
    "RETRIEVER = \"BEmargin_7_0\" \n",
    "RERANKER_P = \"CEPweight_10_0\"\n",
    "RERANKER_S = \"CESweight_5_0\" \n",
    "\n",
    "FUZZY_QUOTE_THRESHOLD = 0.90\n",
    "K = 5\n",
    "RETRIEVE_THRESHOLD = 0.676\n",
    "RERANK_THRESHOLD_P = 0.6\n",
    "RERANK_THRESHOLD_S = 0.7\n",
    "\n",
    "\n",
    "run_pipeline(\n",
    "    QUERY_FILE, CANDIDATE_FOLDER, RESULT_FOLDER,\n",
    "    os.path.join(MODEL_FOLDER, RETRIEVER), \n",
    "    os.path.join(MODEL_FOLDER, RERANKER_P),\n",
    "    os.path.join(MODEL_FOLDER, RERANKER_S),\n",
    "    FUZZY_QUOTE_THRESHOLD, K, RETRIEVE_THRESHOLD, \n",
    "    RERANK_THRESHOLD_P, RERANK_THRESHOLD_S\n",
    ")\n"
   ]
  },
  {
   "cell_type": "code",
   "execution_count": 8,
   "id": "a3e27e0b-c51e-49fe-b642-3d611fdd84f9",
   "metadata": {},
   "outputs": [
    {
     "name": "stdout",
     "output_type": "stream",
     "text": [
      "Loading Sentence Transformer Model...\n",
      "\n",
      "Embedding queries...\n"
     ]
    },
    {
     "data": {
      "application/vnd.jupyter.widget-view+json": {
       "model_id": "483510368c724dd3a539a7f057489b5b",
       "version_major": 2,
       "version_minor": 0
      },
      "text/plain": [
       "Batches:   0%|          | 0/22 [00:00<?, ?it/s]"
      ]
     },
     "metadata": {},
     "output_type": "display_data"
    },
    {
     "name": "stdout",
     "output_type": "stream",
     "text": [
      "\n",
      "\n",
      "\n",
      " Processing: Brenz_Gen.jsonl\n",
      "Embedding candidates...\n"
     ]
    },
    {
     "data": {
      "application/vnd.jupyter.widget-view+json": {
       "model_id": "ee6e0652d81d49f5a1f862b3828055a7",
       "version_major": 2,
       "version_minor": 0
      },
      "text/plain": [
       "Batches:   0%|          | 0/290 [00:00<?, ?it/s]"
      ]
     },
     "metadata": {},
     "output_type": "display_data"
    },
    {
     "name": "stdout",
     "output_type": "stream",
     "text": [
      " Candidates embedded.\n",
      "\n",
      "15 1646\n"
     ]
    },
    {
     "name": "stderr",
     "output_type": "stream",
     "text": [
      "100%|██████████████████████████████████████████████████████████████████████████████████████████████████████████████████████████████████████████████████████████████████████████████████████████████| 1646/1646 [01:12<00:00, 22.66it/s]\n"
     ]
    },
    {
     "name": "stdout",
     "output_type": "stream",
     "text": [
      "22\n"
     ]
    },
    {
     "name": "stderr",
     "output_type": "stream",
     "text": [
      "100%|██████████████████████████████████████████████████████████████████████████████████████████████████████████████████████████████████████████████████████████████████████████████████████████████| 1624/1624 [01:11<00:00, 22.75it/s]"
     ]
    },
    {
     "name": "stdout",
     "output_type": "stream",
     "text": [
      "177\n",
      " Saved: ../results/Wild_Gen1/Comp_Wild_Gen1_Brenz_Gen.json\n",
      "\n",
      " Processing: Zwingli_Gen.jsonl\n",
      "Embedding candidates...\n"
     ]
    },
    {
     "name": "stderr",
     "output_type": "stream",
     "text": [
      "\n"
     ]
    },
    {
     "data": {
      "application/vnd.jupyter.widget-view+json": {
       "model_id": "9c149247c2d0428c911dd5483561abe9",
       "version_major": 2,
       "version_minor": 0
      },
      "text/plain": [
       "Batches:   0%|          | 0/141 [00:00<?, ?it/s]"
      ]
     },
     "metadata": {},
     "output_type": "display_data"
    },
    {
     "name": "stdout",
     "output_type": "stream",
     "text": [
      " Candidates embedded.\n",
      "\n",
      "4 1068\n"
     ]
    },
    {
     "name": "stderr",
     "output_type": "stream",
     "text": [
      "100%|██████████████████████████████████████████████████████████████████████████████████████████████████████████████████████████████████████████████████████████████████████████████████████████████| 1068/1068 [00:46<00:00, 22.74it/s]\n"
     ]
    },
    {
     "name": "stdout",
     "output_type": "stream",
     "text": [
      "13\n"
     ]
    },
    {
     "name": "stderr",
     "output_type": "stream",
     "text": [
      "100%|██████████████████████████████████████████████████████████████████████████████████████████████████████████████████████████████████████████████████████████████████████████████████████████████| 1055/1055 [00:45<00:00, 23.31it/s]\n"
     ]
    },
    {
     "name": "stdout",
     "output_type": "stream",
     "text": [
      "130\n",
      " Saved: ../results/Wild_Gen1/Comp_Wild_Gen1_Zwingli_Gen.json\n",
      "\n",
      " Processing: Melanchthon_Gen1.jsonl\n",
      "Embedding candidates...\n"
     ]
    },
    {
     "data": {
      "application/vnd.jupyter.widget-view+json": {
       "model_id": "ef2f52f0f86e4936b75fec0b64ec8db8",
       "version_major": 2,
       "version_minor": 0
      },
      "text/plain": [
       "Batches:   0%|          | 0/15 [00:00<?, ?it/s]"
      ]
     },
     "metadata": {},
     "output_type": "display_data"
    },
    {
     "name": "stdout",
     "output_type": "stream",
     "text": [
      " Candidates embedded.\n",
      "\n",
      "37 698\n"
     ]
    },
    {
     "name": "stderr",
     "output_type": "stream",
     "text": [
      "100%|████████████████████████████████████████████████████████████████████████████████████████████████████████████████████████████████████████████████████████████████████████████████████████████████| 698/698 [00:30<00:00, 23.11it/s]\n"
     ]
    },
    {
     "name": "stdout",
     "output_type": "stream",
     "text": [
      "16\n"
     ]
    },
    {
     "name": "stderr",
     "output_type": "stream",
     "text": [
      "100%|████████████████████████████████████████████████████████████████████████████████████████████████████████████████████████████████████████████████████████████████████████████████████████████████| 682/682 [00:29<00:00, 23.37it/s]\n"
     ]
    },
    {
     "name": "stdout",
     "output_type": "stream",
     "text": [
      "98\n",
      " Saved: ../results/Wild_Gen1/Comp_Wild_Gen1_Melanchthon_Gen1.json\n",
      "\n",
      " Processing: Luther_Gen.jsonl\n",
      "Embedding candidates...\n"
     ]
    },
    {
     "data": {
      "application/vnd.jupyter.widget-view+json": {
       "model_id": "559cab74efc6494ebad8f6e5db2cac66",
       "version_major": 2,
       "version_minor": 0
      },
      "text/plain": [
       "Batches:   0%|          | 0/1250 [00:00<?, ?it/s]"
      ]
     },
     "metadata": {},
     "output_type": "display_data"
    },
    {
     "name": "stdout",
     "output_type": "stream",
     "text": [
      " Candidates embedded.\n",
      "\n",
      "36 2386\n"
     ]
    },
    {
     "name": "stderr",
     "output_type": "stream",
     "text": [
      "100%|██████████████████████████████████████████████████████████████████████████████████████████████████████████████████████████████████████████████████████████████████████████████████████████████| 2386/2386 [01:43<00:00, 23.05it/s]\n"
     ]
    },
    {
     "name": "stdout",
     "output_type": "stream",
     "text": [
      "28\n"
     ]
    },
    {
     "name": "stderr",
     "output_type": "stream",
     "text": [
      "100%|██████████████████████████████████████████████████████████████████████████████████████████████████████████████████████████████████████████████████████████████████████████████████████████████| 2358/2358 [01:43<00:00, 22.75it/s]"
     ]
    },
    {
     "name": "stdout",
     "output_type": "stream",
     "text": [
      "316\n",
      " Saved: ../results/Wild_Gen1/Comp_Wild_Gen1_Luther_Gen.json\n",
      "\n",
      " Processing: Tuitiensis_Gen.jsonl\n",
      "Embedding candidates...\n"
     ]
    },
    {
     "name": "stderr",
     "output_type": "stream",
     "text": [
      "\n"
     ]
    },
    {
     "data": {
      "application/vnd.jupyter.widget-view+json": {
       "model_id": "c92bd2f025f34dfba1ed60585f20d662",
       "version_major": 2,
       "version_minor": 0
      },
      "text/plain": [
       "Batches:   0%|          | 0/204 [00:00<?, ?it/s]"
      ]
     },
     "metadata": {},
     "output_type": "display_data"
    },
    {
     "name": "stdout",
     "output_type": "stream",
     "text": [
      " Candidates embedded.\n",
      "\n",
      "103 1616\n"
     ]
    },
    {
     "name": "stderr",
     "output_type": "stream",
     "text": [
      "100%|██████████████████████████████████████████████████████████████████████████████████████████████████████████████████████████████████████████████████████████████████████████████████████████████| 1616/1616 [01:12<00:00, 22.39it/s]\n"
     ]
    },
    {
     "name": "stdout",
     "output_type": "stream",
     "text": [
      "27\n"
     ]
    },
    {
     "name": "stderr",
     "output_type": "stream",
     "text": [
      "100%|██████████████████████████████████████████████████████████████████████████████████████████████████████████████████████████████████████████████████████████████████████████████████████████████| 1589/1589 [01:11<00:00, 22.34it/s]"
     ]
    },
    {
     "name": "stdout",
     "output_type": "stream",
     "text": [
      "230\n",
      " Saved: ../results/Wild_Gen1/Comp_Wild_Gen1_Tuitiensis_Gen.json\n"
     ]
    },
    {
     "name": "stderr",
     "output_type": "stream",
     "text": [
      "\n"
     ]
    }
   ],
   "source": [
    "import os\n",
    "\n",
    "from detect import run_pipeline\n",
    "\n",
    "QUERY_FILE=\"../data/corpus/documents/Wild_Gen1.jsonl\"\n",
    "CANDIDATE_FOLDER=\"../data/corpus/books/Gen/\"\n",
    "RESULT_FOLDER=\"../results/Wild_Gen1/\"\n",
    "\n",
    "MODEL_FOLDER = \"../models/v2/\"\n",
    "\n",
    "RETRIEVER = \"BEmargin_7_0\" \n",
    "RERANKER_P = \"CEPweight_10_0\"\n",
    "RERANKER_S = \"CESweight_5_0\" \n",
    "\n",
    "FUZZY_QUOTE_THRESHOLD = 0.90\n",
    "K = 5\n",
    "RETRIEVE_THRESHOLD = 0.676\n",
    "RERANK_THRESHOLD_P = 0.6\n",
    "RERANK_THRESHOLD_S = 0.7\n",
    "\n",
    "\n",
    "run_pipeline(\n",
    "    QUERY_FILE, CANDIDATE_FOLDER, RESULT_FOLDER,\n",
    "    os.path.join(MODEL_FOLDER, RETRIEVER), \n",
    "    os.path.join(MODEL_FOLDER, RERANKER_P),\n",
    "    os.path.join(MODEL_FOLDER, RERANKER_S),\n",
    "    FUZZY_QUOTE_THRESHOLD, K, RETRIEVE_THRESHOLD, \n",
    "    RERANK_THRESHOLD_P, RERANK_THRESHOLD_S\n",
    ")\n"
   ]
  },
  {
   "cell_type": "code",
   "execution_count": 9,
   "id": "60ef6605-1113-4050-a34d-cb9efadff5db",
   "metadata": {},
   "outputs": [
    {
     "name": "stdout",
     "output_type": "stream",
     "text": [
      "Loading Sentence Transformer Model...\n",
      "\n",
      "Embedding queries...\n"
     ]
    },
    {
     "data": {
      "application/vnd.jupyter.widget-view+json": {
       "model_id": "f7ced4124ad147e39b54e2ff10fb485f",
       "version_major": 2,
       "version_minor": 0
      },
      "text/plain": [
       "Batches:   0%|          | 0/6 [00:00<?, ?it/s]"
      ]
     },
     "metadata": {},
     "output_type": "display_data"
    },
    {
     "name": "stdout",
     "output_type": "stream",
     "text": [
      "\n",
      "\n",
      "\n",
      " Processing: Brenz_Gen.jsonl\n",
      "Embedding candidates...\n"
     ]
    },
    {
     "data": {
      "application/vnd.jupyter.widget-view+json": {
       "model_id": "e016c31748f944c2a5a9cf2bc569c6d5",
       "version_major": 2,
       "version_minor": 0
      },
      "text/plain": [
       "Batches:   0%|          | 0/290 [00:00<?, ?it/s]"
      ]
     },
     "metadata": {},
     "output_type": "display_data"
    },
    {
     "name": "stdout",
     "output_type": "stream",
     "text": [
      " Candidates embedded.\n",
      "\n",
      "3 394\n"
     ]
    },
    {
     "name": "stderr",
     "output_type": "stream",
     "text": [
      "100%|████████████████████████████████████████████████████████████████████████████████████████████████████████████████████████████████████████████████████████████████████████████████████████████████| 394/394 [00:17<00:00, 22.20it/s]\n"
     ]
    },
    {
     "name": "stdout",
     "output_type": "stream",
     "text": [
      "3\n"
     ]
    },
    {
     "name": "stderr",
     "output_type": "stream",
     "text": [
      "100%|████████████████████████████████████████████████████████████████████████████████████████████████████████████████████████████████████████████████████████████████████████████████████████████████| 391/391 [00:16<00:00, 23.20it/s]"
     ]
    },
    {
     "name": "stdout",
     "output_type": "stream",
     "text": [
      "61\n",
      " Saved: ../results/Wild_Gen4/Comp_Wild_Gen4_Brenz_Gen.json\n",
      "\n",
      " Processing: Zwingli_Gen.jsonl\n",
      "Embedding candidates...\n"
     ]
    },
    {
     "name": "stderr",
     "output_type": "stream",
     "text": [
      "\n"
     ]
    },
    {
     "data": {
      "application/vnd.jupyter.widget-view+json": {
       "model_id": "6a0b7ec691864a9ab2af1106488c8ca6",
       "version_major": 2,
       "version_minor": 0
      },
      "text/plain": [
       "Batches:   0%|          | 0/141 [00:00<?, ?it/s]"
      ]
     },
     "metadata": {},
     "output_type": "display_data"
    },
    {
     "name": "stdout",
     "output_type": "stream",
     "text": [
      " Candidates embedded.\n",
      "\n",
      "1 220\n"
     ]
    },
    {
     "name": "stderr",
     "output_type": "stream",
     "text": [
      "100%|████████████████████████████████████████████████████████████████████████████████████████████████████████████████████████████████████████████████████████████████████████████████████████████████| 220/220 [00:09<00:00, 23.51it/s]\n"
     ]
    },
    {
     "name": "stdout",
     "output_type": "stream",
     "text": [
      "6\n"
     ]
    },
    {
     "name": "stderr",
     "output_type": "stream",
     "text": [
      "100%|████████████████████████████████████████████████████████████████████████████████████████████████████████████████████████████████████████████████████████████████████████████████████████████████| 214/214 [00:09<00:00, 23.60it/s]"
     ]
    },
    {
     "name": "stdout",
     "output_type": "stream",
     "text": [
      "24\n",
      " Saved: ../results/Wild_Gen4/Comp_Wild_Gen4_Zwingli_Gen.json\n",
      "\n",
      " Processing: Melanchthon_Gen1.jsonl\n",
      "Embedding candidates...\n"
     ]
    },
    {
     "name": "stderr",
     "output_type": "stream",
     "text": [
      "\n"
     ]
    },
    {
     "data": {
      "application/vnd.jupyter.widget-view+json": {
       "model_id": "c9c5f8d963f64d779f6302955b5d5981",
       "version_major": 2,
       "version_minor": 0
      },
      "text/plain": [
       "Batches:   0%|          | 0/15 [00:00<?, ?it/s]"
      ]
     },
     "metadata": {},
     "output_type": "display_data"
    },
    {
     "name": "stdout",
     "output_type": "stream",
     "text": [
      " Candidates embedded.\n",
      "\n",
      "4 80\n"
     ]
    },
    {
     "name": "stderr",
     "output_type": "stream",
     "text": [
      "100%|██████████████████████████████████████████████████████████████████████████████████████████████████████████████████████████████████████████████████████████████████████████████████████████████████| 80/80 [00:03<00:00, 22.33it/s]\n"
     ]
    },
    {
     "name": "stdout",
     "output_type": "stream",
     "text": [
      "0\n"
     ]
    },
    {
     "name": "stderr",
     "output_type": "stream",
     "text": [
      "100%|██████████████████████████████████████████████████████████████████████████████████████████████████████████████████████████████████████████████████████████████████████████████████████████████████| 80/80 [00:03<00:00, 22.35it/s]\n"
     ]
    },
    {
     "name": "stdout",
     "output_type": "stream",
     "text": [
      "8\n",
      " Saved: ../results/Wild_Gen4/Comp_Wild_Gen4_Melanchthon_Gen1.json\n",
      "\n",
      " Processing: Luther_Gen.jsonl\n",
      "Embedding candidates...\n"
     ]
    },
    {
     "data": {
      "application/vnd.jupyter.widget-view+json": {
       "model_id": "756d5494351743ce8ec2f96b80daab92",
       "version_major": 2,
       "version_minor": 0
      },
      "text/plain": [
       "Batches:   0%|          | 0/1250 [00:00<?, ?it/s]"
      ]
     },
     "metadata": {},
     "output_type": "display_data"
    },
    {
     "name": "stdout",
     "output_type": "stream",
     "text": [
      " Candidates embedded.\n",
      "\n",
      "16 549\n"
     ]
    },
    {
     "name": "stderr",
     "output_type": "stream",
     "text": [
      "100%|████████████████████████████████████████████████████████████████████████████████████████████████████████████████████████████████████████████████████████████████████████████████████████████████| 549/549 [00:23<00:00, 23.17it/s]\n"
     ]
    },
    {
     "name": "stdout",
     "output_type": "stream",
     "text": [
      "8\n"
     ]
    },
    {
     "name": "stderr",
     "output_type": "stream",
     "text": [
      "100%|████████████████████████████████████████████████████████████████████████████████████████████████████████████████████████████████████████████████████████████████████████████████████████████████| 541/541 [00:23<00:00, 23.39it/s]\n"
     ]
    },
    {
     "name": "stdout",
     "output_type": "stream",
     "text": [
      "104\n",
      " Saved: ../results/Wild_Gen4/Comp_Wild_Gen4_Luther_Gen.json\n",
      "\n",
      " Processing: Tuitiensis_Gen.jsonl\n",
      "Embedding candidates...\n"
     ]
    },
    {
     "data": {
      "application/vnd.jupyter.widget-view+json": {
       "model_id": "d0cca5d7d6db4a17a8590d8990809218",
       "version_major": 2,
       "version_minor": 0
      },
      "text/plain": [
       "Batches:   0%|          | 0/204 [00:00<?, ?it/s]"
      ]
     },
     "metadata": {},
     "output_type": "display_data"
    },
    {
     "name": "stdout",
     "output_type": "stream",
     "text": [
      " Candidates embedded.\n",
      "\n",
      "29 334\n"
     ]
    },
    {
     "name": "stderr",
     "output_type": "stream",
     "text": [
      "100%|████████████████████████████████████████████████████████████████████████████████████████████████████████████████████████████████████████████████████████████████████████████████████████████████| 334/334 [00:14<00:00, 22.98it/s]\n"
     ]
    },
    {
     "name": "stdout",
     "output_type": "stream",
     "text": [
      "10\n"
     ]
    },
    {
     "name": "stderr",
     "output_type": "stream",
     "text": [
      "100%|████████████████████████████████████████████████████████████████████████████████████████████████████████████████████████████████████████████████████████████████████████████████████████████████| 324/324 [00:14<00:00, 23.07it/s]"
     ]
    },
    {
     "name": "stdout",
     "output_type": "stream",
     "text": [
      "53\n",
      " Saved: ../results/Wild_Gen4/Comp_Wild_Gen4_Tuitiensis_Gen.json\n"
     ]
    },
    {
     "name": "stderr",
     "output_type": "stream",
     "text": [
      "\n"
     ]
    }
   ],
   "source": [
    "import os\n",
    "\n",
    "from detect import run_pipeline\n",
    "\n",
    "QUERY_FILE=\"../data/corpus/documents/Wild_Gen4.jsonl\"\n",
    "CANDIDATE_FOLDER=\"../data/corpus/books/Gen/\"\n",
    "RESULT_FOLDER=\"../results/Wild_Gen4/\"\n",
    "\n",
    "MODEL_FOLDER = \"../models/v2/\"\n",
    "\n",
    "RETRIEVER = \"BEmargin_7_0\" \n",
    "RERANKER_P = \"CEPweight_10_0\"\n",
    "RERANKER_S = \"CESweight_5_0\" \n",
    "\n",
    "FUZZY_QUOTE_THRESHOLD = 0.90\n",
    "K = 5\n",
    "RETRIEVE_THRESHOLD = 0.676\n",
    "RERANK_THRESHOLD_P = 0.6\n",
    "RERANK_THRESHOLD_S = 0.7\n",
    "\n",
    "\n",
    "run_pipeline(\n",
    "    QUERY_FILE, CANDIDATE_FOLDER, RESULT_FOLDER,\n",
    "    os.path.join(MODEL_FOLDER, RETRIEVER), \n",
    "    os.path.join(MODEL_FOLDER, RERANKER_P),\n",
    "    os.path.join(MODEL_FOLDER, RERANKER_S),\n",
    "    FUZZY_QUOTE_THRESHOLD, K, RETRIEVE_THRESHOLD, \n",
    "    RERANK_THRESHOLD_P, RERANK_THRESHOLD_S\n",
    ")\n"
   ]
  },
  {
   "cell_type": "code",
   "execution_count": 10,
   "id": "d1ec35cc-a4ba-4464-9ebf-f6ac451675d8",
   "metadata": {},
   "outputs": [
    {
     "name": "stdout",
     "output_type": "stream",
     "text": [
      "Loading Sentence Transformer Model...\n",
      "\n",
      "Embedding queries...\n"
     ]
    },
    {
     "data": {
      "application/vnd.jupyter.widget-view+json": {
       "model_id": "2477affcf69640c89ebb1a68fb2d413f",
       "version_major": 2,
       "version_minor": 0
      },
      "text/plain": [
       "Batches:   0%|          | 0/10 [00:00<?, ?it/s]"
      ]
     },
     "metadata": {},
     "output_type": "display_data"
    },
    {
     "name": "stdout",
     "output_type": "stream",
     "text": [
      "\n",
      "\n",
      "\n",
      " Processing: Brenz_Gen.jsonl\n",
      "Embedding candidates...\n"
     ]
    },
    {
     "data": {
      "application/vnd.jupyter.widget-view+json": {
       "model_id": "0607e11f9c85492182b672593fb8c4f6",
       "version_major": 2,
       "version_minor": 0
      },
      "text/plain": [
       "Batches:   0%|          | 0/290 [00:00<?, ?it/s]"
      ]
     },
     "metadata": {},
     "output_type": "display_data"
    },
    {
     "name": "stdout",
     "output_type": "stream",
     "text": [
      " Candidates embedded.\n",
      "\n",
      "7 650\n"
     ]
    },
    {
     "name": "stderr",
     "output_type": "stream",
     "text": [
      "100%|████████████████████████████████████████████████████████████████████████████████████████████████████████████████████████████████████████████████████████████████████████████████████████████████| 650/650 [00:28<00:00, 23.19it/s]\n"
     ]
    },
    {
     "name": "stdout",
     "output_type": "stream",
     "text": [
      "7\n"
     ]
    },
    {
     "name": "stderr",
     "output_type": "stream",
     "text": [
      "100%|████████████████████████████████████████████████████████████████████████████████████████████████████████████████████████████████████████████████████████████████████████████████████████████████| 643/643 [00:27<00:00, 23.09it/s]"
     ]
    },
    {
     "name": "stdout",
     "output_type": "stream",
     "text": [
      "78\n",
      " Saved: ../results/Wild_Gen22/Comp_Wild_Gen22_Brenz_Gen.json\n",
      "\n",
      " Processing: Zwingli_Gen.jsonl\n",
      "Embedding candidates...\n"
     ]
    },
    {
     "name": "stderr",
     "output_type": "stream",
     "text": [
      "\n"
     ]
    },
    {
     "data": {
      "application/vnd.jupyter.widget-view+json": {
       "model_id": "4fb5bf3bf9d242d6ad91df06dbbecdb8",
       "version_major": 2,
       "version_minor": 0
      },
      "text/plain": [
       "Batches:   0%|          | 0/141 [00:00<?, ?it/s]"
      ]
     },
     "metadata": {},
     "output_type": "display_data"
    },
    {
     "name": "stdout",
     "output_type": "stream",
     "text": [
      " Candidates embedded.\n",
      "\n",
      "37 465\n"
     ]
    },
    {
     "name": "stderr",
     "output_type": "stream",
     "text": [
      "100%|████████████████████████████████████████████████████████████████████████████████████████████████████████████████████████████████████████████████████████████████████████████████████████████████| 465/465 [00:19<00:00, 23.34it/s]\n"
     ]
    },
    {
     "name": "stdout",
     "output_type": "stream",
     "text": [
      "11\n"
     ]
    },
    {
     "name": "stderr",
     "output_type": "stream",
     "text": [
      "100%|████████████████████████████████████████████████████████████████████████████████████████████████████████████████████████████████████████████████████████████████████████████████████████████████| 454/454 [00:19<00:00, 23.34it/s]"
     ]
    },
    {
     "name": "stdout",
     "output_type": "stream",
     "text": [
      "91\n",
      " Saved: ../results/Wild_Gen22/Comp_Wild_Gen22_Zwingli_Gen.json\n",
      "\n",
      " Processing: Melanchthon_Gen1.jsonl\n",
      "Embedding candidates...\n"
     ]
    },
    {
     "name": "stderr",
     "output_type": "stream",
     "text": [
      "\n"
     ]
    },
    {
     "data": {
      "application/vnd.jupyter.widget-view+json": {
       "model_id": "355254b80ade4b4095f215cdd71c8cfc",
       "version_major": 2,
       "version_minor": 0
      },
      "text/plain": [
       "Batches:   0%|          | 0/15 [00:00<?, ?it/s]"
      ]
     },
     "metadata": {},
     "output_type": "display_data"
    },
    {
     "name": "stdout",
     "output_type": "stream",
     "text": [
      " Candidates embedded.\n",
      "\n",
      "0 19\n"
     ]
    },
    {
     "name": "stderr",
     "output_type": "stream",
     "text": [
      "100%|██████████████████████████████████████████████████████████████████████████████████████████████████████████████████████████████████████████████████████████████████████████████████████████████████| 19/19 [00:00<00:00, 23.62it/s]\n"
     ]
    },
    {
     "name": "stdout",
     "output_type": "stream",
     "text": [
      "0\n"
     ]
    },
    {
     "name": "stderr",
     "output_type": "stream",
     "text": [
      "100%|██████████████████████████████████████████████████████████████████████████████████████████████████████████████████████████████████████████████████████████████████████████████████████████████████| 19/19 [00:00<00:00, 24.36it/s]\n"
     ]
    },
    {
     "name": "stdout",
     "output_type": "stream",
     "text": [
      "1\n",
      " Saved: ../results/Wild_Gen22/Comp_Wild_Gen22_Melanchthon_Gen1.json\n",
      "\n",
      " Processing: Luther_Gen.jsonl\n",
      "Embedding candidates...\n"
     ]
    },
    {
     "data": {
      "application/vnd.jupyter.widget-view+json": {
       "model_id": "3b797db3732649f388437c64576cd220",
       "version_major": 2,
       "version_minor": 0
      },
      "text/plain": [
       "Batches:   0%|          | 0/1250 [00:00<?, ?it/s]"
      ]
     },
     "metadata": {},
     "output_type": "display_data"
    },
    {
     "name": "stdout",
     "output_type": "stream",
     "text": [
      " Candidates embedded.\n",
      "\n",
      "15 985\n"
     ]
    },
    {
     "name": "stderr",
     "output_type": "stream",
     "text": [
      "100%|████████████████████████████████████████████████████████████████████████████████████████████████████████████████████████████████████████████████████████████████████████████████████████████████| 985/985 [00:42<00:00, 23.45it/s]\n"
     ]
    },
    {
     "name": "stdout",
     "output_type": "stream",
     "text": [
      "23\n"
     ]
    },
    {
     "name": "stderr",
     "output_type": "stream",
     "text": [
      "100%|████████████████████████████████████████████████████████████████████████████████████████████████████████████████████████████████████████████████████████████████████████████████████████████████| 962/962 [00:41<00:00, 23.34it/s]"
     ]
    },
    {
     "name": "stdout",
     "output_type": "stream",
     "text": [
      "148\n",
      " Saved: ../results/Wild_Gen22/Comp_Wild_Gen22_Luther_Gen.json\n",
      "\n",
      " Processing: Tuitiensis_Gen.jsonl\n",
      "Embedding candidates...\n"
     ]
    },
    {
     "name": "stderr",
     "output_type": "stream",
     "text": [
      "\n"
     ]
    },
    {
     "data": {
      "application/vnd.jupyter.widget-view+json": {
       "model_id": "d070974b973f4bc2995f74d1f911c749",
       "version_major": 2,
       "version_minor": 0
      },
      "text/plain": [
       "Batches:   0%|          | 0/204 [00:00<?, ?it/s]"
      ]
     },
     "metadata": {},
     "output_type": "display_data"
    },
    {
     "name": "stdout",
     "output_type": "stream",
     "text": [
      " Candidates embedded.\n",
      "\n",
      "15 491\n"
     ]
    },
    {
     "name": "stderr",
     "output_type": "stream",
     "text": [
      "100%|████████████████████████████████████████████████████████████████████████████████████████████████████████████████████████████████████████████████████████████████████████████████████████████████| 491/491 [00:21<00:00, 22.87it/s]\n"
     ]
    },
    {
     "name": "stdout",
     "output_type": "stream",
     "text": [
      "5\n"
     ]
    },
    {
     "name": "stderr",
     "output_type": "stream",
     "text": [
      "100%|████████████████████████████████████████████████████████████████████████████████████████████████████████████████████████████████████████████████████████████████████████████████████████████████| 486/486 [00:21<00:00, 22.99it/s]"
     ]
    },
    {
     "name": "stdout",
     "output_type": "stream",
     "text": [
      "64\n",
      " Saved: ../results/Wild_Gen22/Comp_Wild_Gen22_Tuitiensis_Gen.json\n"
     ]
    },
    {
     "name": "stderr",
     "output_type": "stream",
     "text": [
      "\n"
     ]
    }
   ],
   "source": [
    "import os\n",
    "\n",
    "from detect import run_pipeline\n",
    "\n",
    "QUERY_FILE=\"../data/corpus/documents/Wild_Gen22.jsonl\"\n",
    "CANDIDATE_FOLDER=\"../data/corpus/books/Gen/\"\n",
    "RESULT_FOLDER=\"../results/Wild_Gen22/\"\n",
    "\n",
    "MODEL_FOLDER = \"../models/v2/\"\n",
    "\n",
    "RETRIEVER = \"BEmargin_7_0\" \n",
    "RERANKER_P = \"CEPweight_10_0\"\n",
    "RERANKER_S = \"CESweight_5_0\" \n",
    "\n",
    "FUZZY_QUOTE_THRESHOLD = 0.90\n",
    "K = 5\n",
    "RETRIEVE_THRESHOLD = 0.676\n",
    "RERANK_THRESHOLD_P = 0.6\n",
    "RERANK_THRESHOLD_S = 0.7\n",
    "\n",
    "\n",
    "run_pipeline(\n",
    "    QUERY_FILE, CANDIDATE_FOLDER, RESULT_FOLDER,\n",
    "    os.path.join(MODEL_FOLDER, RETRIEVER), \n",
    "    os.path.join(MODEL_FOLDER, RERANKER_P),\n",
    "    os.path.join(MODEL_FOLDER, RERANKER_S),\n",
    "    FUZZY_QUOTE_THRESHOLD, K, RETRIEVE_THRESHOLD, \n",
    "    RERANK_THRESHOLD_P, RERANK_THRESHOLD_S\n",
    ")\n"
   ]
  },
  {
   "cell_type": "code",
   "execution_count": null,
   "id": "62fc1f6b-3c84-447d-a335-41bf9db99a6e",
   "metadata": {},
   "outputs": [],
   "source": []
  }
 ],
 "metadata": {
  "kernelspec": {
   "display_name": "Python 3 (ipykernel)",
   "language": "python",
   "name": "python3"
  },
  "language_info": {
   "codemirror_mode": {
    "name": "ipython",
    "version": 3
   },
   "file_extension": ".py",
   "mimetype": "text/x-python",
   "name": "python",
   "nbconvert_exporter": "python",
   "pygments_lexer": "ipython3",
   "version": "3.10.16"
  }
 },
 "nbformat": 4,
 "nbformat_minor": 5
}
