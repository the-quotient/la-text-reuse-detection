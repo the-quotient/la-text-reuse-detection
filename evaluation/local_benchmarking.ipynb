{
 "cells": [
  {
   "cell_type": "code",
   "execution_count": 1,
   "id": "340e8f46-1f3a-4afd-ab0e-6c7b636fd53d",
   "metadata": {},
   "outputs": [],
   "source": [
    "MODEL_FOLDER = \"../models/\"\n",
    "DATA_FOLDER = \"../data/samples/\" \n",
    "RESULT_FOLDER = \"../results/\" \n",
    "\n",
    "SAMPLES_G = [\"SGMH\"] #[\"SGSH\", \"SGSL\", \"SGMH\", \"SGML\"]\n",
    "SAMPLES_P = [\"SPSH\", \"SPSL\"]\n",
    "SAMPLES_S = [\"SGMH\"] #, \"SCSL\"]"
   ]
  },
  {
   "cell_type": "code",
   "execution_count": 2,
   "id": "47fa7cee-86e5-4485-b5cc-cb1fb2c4d912",
   "metadata": {},
   "outputs": [
    {
     "name": "stdout",
     "output_type": "stream",
     "text": [
      "Starting Benchmarking in Single Model Mode.\n",
      "Starting Reranker Benchmarking.\n"
     ]
    },
    {
     "name": "stderr",
     "output_type": "stream",
     "text": [
      "100%|█████████████████████████████████████████████████████████████████████████████████████████████████████████████████████████████████████████████████████| 1000/1000 [03:14<00:00,  5.13it/s]"
     ]
    },
    {
     "name": "stdout",
     "output_type": "stream",
     "text": [
      "Reranker\n",
      "              precision    recall  f1-score   support\n",
      "\n",
      "           0       1.00      0.99      0.99       799\n",
      "           1       0.97      0.99      0.98       201\n",
      "\n",
      "    accuracy                           0.99      1000\n",
      "   macro avg       0.98      0.99      0.99      1000\n",
      "weighted avg       0.99      0.99      0.99      1000\n",
      "\n"
     ]
    },
    {
     "name": "stderr",
     "output_type": "stream",
     "text": [
      "\n"
     ]
    }
   ],
   "source": [
    "MODELS = {\n",
    "    \"RETRIEVER\":  (0, \"SPhilBERTa\"),\n",
    "    \"RERANKER_P\": (0, \"LaBERTa\"),\n",
    "    \"RERANKER_S\": (1, \"CES-5E\")\n",
    "}\n",
    "\n",
    "PIPELINE_CONFIGS = [\n",
    "    {\"threshold\": t} \n",
    "    for t in [0.5, 0.6, 0.7]\n",
    "]\n",
    "RETRIEVAL_CONFIGS = [\n",
    "    {\"k\": k, \"threshold\": t}\n",
    "    for k in [2, 5, 8]\n",
    "    for t in [0.5, 0.6, 0.7, 0.8]\n",
    "]\n",
    "\n",
    "import benchmarking\n",
    "benchmarking.BenchmarkRunner(\n",
    "        MODEL_FOLDER, [name if select else None for select, name in MODELS.values()],\n",
    "        DATA_FOLDER, {'G': SAMPLES_G, 'F': SAMPLES_F, 'P': SAMPLES_P, 'C': SAMPLES_C},\n",
    "        RESULT_FOLDER,\n",
    "        PIPELINE_CONFIGS, RETRIEVAL_CONFIGS, RERANKER_CONFIGS\n",
    "    ).benchmark()"
   ]
  },
  {
   "cell_type": "code",
   "execution_count": null,
   "id": "919a48bd-60ae-4405-83e7-6f4d89010bf2",
   "metadata": {},
   "outputs": [],
   "source": []
  }
 ],
 "metadata": {
  "kernelspec": {
   "display_name": "Python 3 (ipykernel)",
   "language": "python",
   "name": "python3"
  },
  "language_info": {
   "codemirror_mode": {
    "name": "ipython",
    "version": 3
   },
   "file_extension": ".py",
   "mimetype": "text/x-python",
   "name": "python",
   "nbconvert_exporter": "python",
   "pygments_lexer": "ipython3",
   "version": "3.10.16"
  }
 },
 "nbformat": 4,
 "nbformat_minor": 5
}
