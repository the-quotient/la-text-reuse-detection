{
 "cells": [
  {
   "cell_type": "code",
   "execution_count": null,
   "id": "340e8f46-1f3a-4afd-ab0e-6c7b636fd53d",
   "metadata": {},
   "outputs": [],
   "source": [
    "MODEL_FOLDER = \"../models/\"\n",
    "DATA_FOLDER = \"../data/samples/\" \n",
    "RESULT_FOLDER = \"../results/\" \n",
    "\n",
    "SAMPLES_G = [\"SGMH\"] #[\"SGSH\", \"SGSL\", \"SGMH\", \"SGML\"]\n",
    "SAMPLES_F = [\"SGMH\"] #[\"SFSH\", \"SFSL\", \"SFMH\", \"SFML\"]\n",
    "SAMPLES_P = [\"SPSH\", \"SPSL\"]\n",
    "SAMPLES_C = [\"SCSH\", \"SCSL\"]"
   ]
  },
  {
   "cell_type": "code",
   "execution_count": null,
   "id": "47fa7cee-86e5-4485-b5cc-cb1fb2c4d912",
   "metadata": {},
   "outputs": [],
   "source": [
    "MODELS = {\n",
    "    \"RETRIEVER\":  (1, \"SPhilBERTa\"),\n",
    "    \"RERANKER_F\": (0, \"LaBERTa\"),\n",
    "    \"RERANKER_P\": (0, \"LaBERTa\"),\n",
    "    \"RERANKER_C\": (0, \"LaBERTa\")\n",
    "}\n",
    "\n",
    "PIPELINE_CONFIGS = [\n",
    "    {\"threshold\": t} \n",
    "    for t in [0.5, 0.6, 0.7]\n",
    "]\n",
    "RETRIEVAL_CONFIGS = [\n",
    "    {\"k\": k, \"threshold\": t}\n",
    "    for k in [2, 5, 8]\n",
    "    for t in [0.5, 0.6, 0.7, 0.8]\n",
    "]\n",
    "RERANKER_CONFIGS = [\n",
    "    {\"threshold\": t} \n",
    "    for t in [0.5, 0.6, 0.7, 0.8]\n",
    "]\n",
    "\n",
    "import benchmarking\n",
    "benchmarking.BenchmarkRunner(\n",
    "        MODEL_FOLDER, [name if select else None for select, name in MODELS.values()],\n",
    "        DATA_FOLDER, {'G': SAMPLES_G, 'F': SAMPLES_F, 'P': SAMPLES_P, 'C': SAMPLES_C},\n",
    "        RESULT_FOLDER,\n",
    "        PIPELINE_CONFIGS, RETRIEVAL_CONFIGS, RERANKER_CONFIGS\n",
    "    ).benchmark()"
   ]
  },
  {
   "cell_type": "code",
   "execution_count": null,
   "id": "83e953cc-3dcb-4bde-b692-9903821fcf39",
   "metadata": {},
   "outputs": [],
   "source": []
  }
 ],
 "metadata": {
  "kernelspec": {
   "display_name": "Python 3 (ipykernel)",
   "language": "python",
   "name": "python3"
  },
  "language_info": {
   "codemirror_mode": {
    "name": "ipython",
    "version": 3
   },
   "file_extension": ".py",
   "mimetype": "text/x-python",
   "name": "python",
   "nbconvert_exporter": "python",
   "pygments_lexer": "ipython3",
   "version": "3.10.14"
  }
 },
 "nbformat": 4,
 "nbformat_minor": 5
}
