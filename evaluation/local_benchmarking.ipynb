{
 "cells": [
  {
   "cell_type": "code",
   "execution_count": 1,
   "id": "340e8f46-1f3a-4afd-ab0e-6c7b636fd53d",
   "metadata": {},
   "outputs": [],
   "source": [
    "import benchmarking\n",
    "\n",
    "MODEL_FOLDER = \"../models/v2/\"\n",
    "DATA_FOLDER = \"../data/samples/\" \n",
    "RESULT_FOLDER = \"../results/\" \n",
    "\n",
    "SAMPLES_G = [\"SGSH\"] #, \"SFSH\", \"SPSH\", \"SSSH\"]\n",
    "SAMPLES_P = [\"SPSH\"]\n",
    "SAMPLES_S = [\"SSSH\"]\n",
    "\n",
    "RETRIEVAL_CONFIGS = [\n",
    "    {\"k\": 5, \"threshold\": t}\n",
    "    for t in [0.672, 0.674, 0.676, 0.678]\n",
    "]\n",
    "\n",
    "RERANKER_CONFIGS = [0.3, 0.4, 0.5, 0.6, 0.7]"
   ]
  },
  {
   "cell_type": "code",
   "execution_count": null,
   "id": "16917eff-897b-4847-8fe7-756ce18065ac",
   "metadata": {},
   "outputs": [],
   "source": [
    "MODELS = [f\"BEmargin_{7}_0\"]\n",
    "\n",
    "for MODEL in MODELS:\n",
    "    benchmarking.BenchmarkRunner(\n",
    "            MODEL_FOLDER, [MODEL],\n",
    "            DATA_FOLDER, {'G': SAMPLES_G, 'P': SAMPLES_P, 'S': SAMPLES_S},\n",
    "            RESULT_FOLDER,\n",
    "            None, RETRIEVAL_CONFIGS\n",
    "        ).benchmark(\"benchmark-BE-v2-(m7, t672-678).json\")"
   ]
  },
  {
   "cell_type": "code",
   "execution_count": 2,
   "id": "0649dceb-c94b-407f-9db0-b3d1b793c115",
   "metadata": {},
   "outputs": [
    {
     "name": "stdout",
     "output_type": "stream",
     "text": [
      "Starting Benchmarking in Single Model Mode.\n",
      "Starting Reranker Benchmarking.\n"
     ]
    },
    {
     "name": "stderr",
     "output_type": "stream",
     "text": [
      "100%|██████████████████████████████████████████████████████████████████████████████████████████████████████████████████████████████████████████████████████████████████████████████████████████████| 1000/1000 [00:48<00:00, 20.44it/s]\n"
     ]
    },
    {
     "name": "stdout",
     "output_type": "stream",
     "text": [
      "Starting Benchmarking in Single Model Mode.\n",
      "Starting Reranker Benchmarking.\n"
     ]
    },
    {
     "name": "stderr",
     "output_type": "stream",
     "text": [
      "100%|██████████████████████████████████████████████████████████████████████████████████████████████████████████████████████████████████████████████████████████████████████████████████████████████| 1000/1000 [00:45<00:00, 21.82it/s]\n"
     ]
    },
    {
     "name": "stdout",
     "output_type": "stream",
     "text": [
      "Starting Benchmarking in Single Model Mode.\n",
      "Starting Reranker Benchmarking.\n"
     ]
    },
    {
     "name": "stderr",
     "output_type": "stream",
     "text": [
      "100%|██████████████████████████████████████████████████████████████████████████████████████████████████████████████████████████████████████████████████████████████████████████████████████████████| 1000/1000 [00:51<00:00, 19.55it/s]\n"
     ]
    },
    {
     "name": "stdout",
     "output_type": "stream",
     "text": [
      "Starting Benchmarking in Single Model Mode.\n",
      "Starting Reranker Benchmarking.\n"
     ]
    },
    {
     "name": "stderr",
     "output_type": "stream",
     "text": [
      "100%|██████████████████████████████████████████████████████████████████████████████████████████████████████████████████████████████████████████████████████████████████████████████████████████████| 1000/1000 [00:46<00:00, 21.44it/s]\n"
     ]
    },
    {
     "name": "stdout",
     "output_type": "stream",
     "text": [
      "Starting Benchmarking in Single Model Mode.\n",
      "Starting Reranker Benchmarking.\n"
     ]
    },
    {
     "name": "stderr",
     "output_type": "stream",
     "text": [
      "100%|██████████████████████████████████████████████████████████████████████████████████████████████████████████████████████████████████████████████████████████████████████████████████████████████| 1000/1000 [00:46<00:00, 21.41it/s]\n"
     ]
    }
   ],
   "source": [
    "MODELS = [\"CESweight_0_5\"] + [f\"CESweight_{k}_0\" for k in [1,2,5,10]]\n",
    "\n",
    "for MODEL in MODELS:\n",
    "    benchmarking.BenchmarkRunner(\n",
    "            MODEL_FOLDER, [None, None, MODEL],\n",
    "            DATA_FOLDER, {'G': SAMPLES_G, 'P': SAMPLES_P, 'S': SAMPLES_S},\n",
    "            RESULT_FOLDER,\n",
    "            None, RETRIEVAL_CONFIGS, RERANKER_CONFIGS\n",
    "        ).benchmark(\"benchmark-CES-v2-(w0.5-10).json\")"
   ]
  },
  {
   "cell_type": "markdown",
   "id": "9caa4845-f5a9-4dfe-a23c-40e960fd41e7",
   "metadata": {},
   "source": []
  },
  {
   "cell_type": "code",
   "execution_count": 5,
   "id": "137ce512-43b8-43b2-8439-abc4ee521ec0",
   "metadata": {},
   "outputs": [
    {
     "name": "stdout",
     "output_type": "stream",
     "text": [
      "Starting Benchmarking in Single Model Mode.\n",
      "Starting Reranker Benchmarking.\n"
     ]
    },
    {
     "name": "stderr",
     "output_type": "stream",
     "text": [
      "100%|██████████████████████████████████████████████████████████████████████████████████████████████████████████████████████████████████████████████████████████████████████████████████████████████| 1000/1000 [00:45<00:00, 22.00it/s]\n"
     ]
    },
    {
     "name": "stdout",
     "output_type": "stream",
     "text": [
      "Starting Benchmarking in Single Model Mode.\n",
      "Starting Reranker Benchmarking.\n"
     ]
    },
    {
     "name": "stderr",
     "output_type": "stream",
     "text": [
      "100%|██████████████████████████████████████████████████████████████████████████████████████████████████████████████████████████████████████████████████████████████████████████████████████████████| 1000/1000 [00:44<00:00, 22.24it/s]\n"
     ]
    },
    {
     "name": "stdout",
     "output_type": "stream",
     "text": [
      "Starting Benchmarking in Single Model Mode.\n",
      "Starting Reranker Benchmarking.\n"
     ]
    },
    {
     "name": "stderr",
     "output_type": "stream",
     "text": [
      "100%|██████████████████████████████████████████████████████████████████████████████████████████████████████████████████████████████████████████████████████████████████████████████████████████████| 1000/1000 [00:45<00:00, 22.17it/s]\n"
     ]
    },
    {
     "name": "stdout",
     "output_type": "stream",
     "text": [
      "Starting Benchmarking in Single Model Mode.\n",
      "Starting Reranker Benchmarking.\n"
     ]
    },
    {
     "name": "stderr",
     "output_type": "stream",
     "text": [
      "100%|██████████████████████████████████████████████████████████████████████████████████████████████████████████████████████████████████████████████████████████████████████████████████████████████| 1000/1000 [00:45<00:00, 22.20it/s]\n"
     ]
    },
    {
     "name": "stdout",
     "output_type": "stream",
     "text": [
      "Starting Benchmarking in Single Model Mode.\n",
      "Starting Reranker Benchmarking.\n"
     ]
    },
    {
     "name": "stderr",
     "output_type": "stream",
     "text": [
      "100%|██████████████████████████████████████████████████████████████████████████████████████████████████████████████████████████████████████████████████████████████████████████████████████████████| 1000/1000 [00:46<00:00, 21.56it/s]\n"
     ]
    }
   ],
   "source": [
    "MODELS = [\"CEPweight_0_5\"] + [f\"CEPweight_{k}_0\" for k in [1,2,5,10]]\n",
    "\n",
    "for MODEL in MODELS:\n",
    "    benchmarking.BenchmarkRunner(\n",
    "            MODEL_FOLDER, [None, MODEL, None],\n",
    "            DATA_FOLDER, {'G': SAMPLES_G, 'P': SAMPLES_P, 'S': SAMPLES_S},\n",
    "            RESULT_FOLDER,\n",
    "            None, RETRIEVAL_CONFIGS, RERANKER_CONFIGS\n",
    "        ).benchmark(\"benchmark-CEP-v2-(w0.5-10, t3-7).json\")"
   ]
  },
  {
   "cell_type": "code",
   "execution_count": null,
   "id": "0fa993ee-c338-4cb6-ae69-cc6ee700d6c7",
   "metadata": {},
   "outputs": [],
   "source": []
  }
 ],
 "metadata": {
  "kernelspec": {
   "display_name": "Python 3 (ipykernel)",
   "language": "python",
   "name": "python3"
  },
  "language_info": {
   "codemirror_mode": {
    "name": "ipython",
    "version": 3
   },
   "file_extension": ".py",
   "mimetype": "text/x-python",
   "name": "python",
   "nbconvert_exporter": "python",
   "pygments_lexer": "ipython3",
   "version": "3.10.16"
  }
 },
 "nbformat": 4,
 "nbformat_minor": 5
}
