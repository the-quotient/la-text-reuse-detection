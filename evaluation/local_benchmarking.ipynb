{
 "cells": [
  {
   "cell_type": "code",
   "execution_count": 1,
   "id": "340e8f46-1f3a-4afd-ab0e-6c7b636fd53d",
   "metadata": {},
   "outputs": [],
   "source": [
    "MODEL_FOLDER = \"../models/\"\n",
    "DATA_FOLDER = \"../data/samples/\" \n",
    "RESULT_FOLDER = \"../results/\" \n",
    "\n",
    "SAMPLES_G = [\"SGMH\"] #[\"SGSH\", \"SGSL\", \"SGMH\", \"SGML\"]\n",
    "SAMPLES_F = [\"SGMH\"] #[\"SFSH\", \"SFSL\", \"SFMH\", \"SFML\"]\n",
    "SAMPLES_P = [\"SPSH\", \"SPSL\"]\n",
    "SAMPLES_C = [\"SGMH\"] #, \"SCSL\"]"
   ]
  },
  {
   "cell_type": "code",
   "execution_count": 2,
   "id": "47fa7cee-86e5-4485-b5cc-cb1fb2c4d912",
   "metadata": {},
   "outputs": [
    {
     "name": "stdout",
     "output_type": "stream",
     "text": [
      "Starting Benchmarking in Single Model Mode.\n",
      "Starting Reranker Benchmarking.\n"
     ]
    },
    {
     "ename": "TypeError",
     "evalue": "list indices must be integers or slices, not str",
     "output_type": "error",
     "traceback": [
      "\u001b[0;31m---------------------------------------------------------------------------\u001b[0m",
      "\u001b[0;31mTypeError\u001b[0m                                 Traceback (most recent call last)",
      "Cell \u001b[0;32mIn[2], line 28\u001b[0m\n\u001b[1;32m     17\u001b[0m RERANKER_CONFIGS \u001b[38;5;241m=\u001b[39m [\n\u001b[1;32m     18\u001b[0m     {\u001b[38;5;124m\"\u001b[39m\u001b[38;5;124mthreshold\u001b[39m\u001b[38;5;124m\"\u001b[39m: t} \n\u001b[1;32m     19\u001b[0m     \u001b[38;5;28;01mfor\u001b[39;00m t \u001b[38;5;129;01min\u001b[39;00m [\u001b[38;5;241m0.5\u001b[39m, \u001b[38;5;241m0.6\u001b[39m, \u001b[38;5;241m0.7\u001b[39m, \u001b[38;5;241m0.8\u001b[39m]\n\u001b[1;32m     20\u001b[0m ]\n\u001b[1;32m     22\u001b[0m \u001b[38;5;28;01mimport\u001b[39;00m\u001b[38;5;250m \u001b[39m\u001b[38;5;21;01mbenchmarking\u001b[39;00m\n\u001b[1;32m     23\u001b[0m \u001b[43mbenchmarking\u001b[49m\u001b[38;5;241;43m.\u001b[39;49m\u001b[43mBenchmarkRunner\u001b[49m\u001b[43m(\u001b[49m\n\u001b[1;32m     24\u001b[0m \u001b[43m        \u001b[49m\u001b[43mMODEL_FOLDER\u001b[49m\u001b[43m,\u001b[49m\u001b[43m \u001b[49m\u001b[43m[\u001b[49m\u001b[43mname\u001b[49m\u001b[43m \u001b[49m\u001b[38;5;28;43;01mif\u001b[39;49;00m\u001b[43m \u001b[49m\u001b[43mselect\u001b[49m\u001b[43m \u001b[49m\u001b[38;5;28;43;01melse\u001b[39;49;00m\u001b[43m \u001b[49m\u001b[38;5;28;43;01mNone\u001b[39;49;00m\u001b[43m \u001b[49m\u001b[38;5;28;43;01mfor\u001b[39;49;00m\u001b[43m \u001b[49m\u001b[43mselect\u001b[49m\u001b[43m,\u001b[49m\u001b[43m \u001b[49m\u001b[43mname\u001b[49m\u001b[43m \u001b[49m\u001b[38;5;129;43;01min\u001b[39;49;00m\u001b[43m \u001b[49m\u001b[43mMODELS\u001b[49m\u001b[38;5;241;43m.\u001b[39;49m\u001b[43mvalues\u001b[49m\u001b[43m(\u001b[49m\u001b[43m)\u001b[49m\u001b[43m]\u001b[49m\u001b[43m,\u001b[49m\n\u001b[1;32m     25\u001b[0m \u001b[43m        \u001b[49m\u001b[43mDATA_FOLDER\u001b[49m\u001b[43m,\u001b[49m\u001b[43m \u001b[49m\u001b[43m{\u001b[49m\u001b[38;5;124;43m'\u001b[39;49m\u001b[38;5;124;43mG\u001b[39;49m\u001b[38;5;124;43m'\u001b[39;49m\u001b[43m:\u001b[49m\u001b[43m \u001b[49m\u001b[43mSAMPLES_G\u001b[49m\u001b[43m,\u001b[49m\u001b[43m \u001b[49m\u001b[38;5;124;43m'\u001b[39;49m\u001b[38;5;124;43mF\u001b[39;49m\u001b[38;5;124;43m'\u001b[39;49m\u001b[43m:\u001b[49m\u001b[43m \u001b[49m\u001b[43mSAMPLES_F\u001b[49m\u001b[43m,\u001b[49m\u001b[43m \u001b[49m\u001b[38;5;124;43m'\u001b[39;49m\u001b[38;5;124;43mP\u001b[39;49m\u001b[38;5;124;43m'\u001b[39;49m\u001b[43m:\u001b[49m\u001b[43m \u001b[49m\u001b[43mSAMPLES_P\u001b[49m\u001b[43m,\u001b[49m\u001b[43m \u001b[49m\u001b[38;5;124;43m'\u001b[39;49m\u001b[38;5;124;43mC\u001b[39;49m\u001b[38;5;124;43m'\u001b[39;49m\u001b[43m:\u001b[49m\u001b[43m \u001b[49m\u001b[43mSAMPLES_C\u001b[49m\u001b[43m}\u001b[49m\u001b[43m,\u001b[49m\n\u001b[1;32m     26\u001b[0m \u001b[43m        \u001b[49m\u001b[43mRESULT_FOLDER\u001b[49m\u001b[43m,\u001b[49m\n\u001b[1;32m     27\u001b[0m \u001b[43m        \u001b[49m\u001b[43mPIPELINE_CONFIGS\u001b[49m\u001b[43m,\u001b[49m\u001b[43m \u001b[49m\u001b[43mRETRIEVAL_CONFIGS\u001b[49m\u001b[43m,\u001b[49m\u001b[43m \u001b[49m\u001b[43mRERANKER_CONFIGS\u001b[49m\n\u001b[0;32m---> 28\u001b[0m \u001b[43m    \u001b[49m\u001b[43m)\u001b[49m\u001b[38;5;241;43m.\u001b[39;49m\u001b[43mbenchmark\u001b[49m\u001b[43m(\u001b[49m\u001b[43m)\u001b[49m\n",
      "File \u001b[0;32m~/dev/la-text-reuse-detection/evaluation/benchmarking.py:57\u001b[0m, in \u001b[0;36mBenchmarkRunner.benchmark\u001b[0;34m(self)\u001b[0m\n\u001b[1;32m     55\u001b[0m \u001b[38;5;28mprint\u001b[39m(\u001b[38;5;124m\"\u001b[39m\u001b[38;5;124mStarting Reranker Benchmarking.\u001b[39m\u001b[38;5;124m\"\u001b[39m)\n\u001b[1;32m     56\u001b[0m data \u001b[38;5;241m=\u001b[39m \u001b[38;5;28mself\u001b[39m\u001b[38;5;241m.\u001b[39m_load(\u001b[38;5;28mself\u001b[39m\u001b[38;5;241m.\u001b[39msamples\u001b[38;5;241m.\u001b[39mget([\u001b[38;5;124m'\u001b[39m\u001b[38;5;124mF\u001b[39m\u001b[38;5;124m'\u001b[39m, \u001b[38;5;124m'\u001b[39m\u001b[38;5;124mP\u001b[39m\u001b[38;5;124m'\u001b[39m, \u001b[38;5;124m'\u001b[39m\u001b[38;5;124mC\u001b[39m\u001b[38;5;124m'\u001b[39m][index \u001b[38;5;241m-\u001b[39m \u001b[38;5;241m1\u001b[39m]))\n\u001b[0;32m---> 57\u001b[0m \u001b[38;5;28;43mself\u001b[39;49m\u001b[38;5;241;43m.\u001b[39;49m\u001b[43m_benchmark_reranker\u001b[49m\u001b[43m(\u001b[49m\u001b[43mos\u001b[49m\u001b[38;5;241;43m.\u001b[39;49m\u001b[43mpath\u001b[49m\u001b[38;5;241;43m.\u001b[39;49m\u001b[43mjoin\u001b[49m\u001b[43m(\u001b[49m\u001b[38;5;28;43mself\u001b[39;49m\u001b[38;5;241;43m.\u001b[39;49m\u001b[43mmodel_folder\u001b[49m\u001b[43m,\u001b[49m\u001b[43m \u001b[49m\u001b[43mmodel\u001b[49m\u001b[43m)\u001b[49m\u001b[43m,\u001b[49m\u001b[43m \u001b[49m\u001b[43mdata\u001b[49m\u001b[43m)\u001b[49m\n",
      "File \u001b[0;32m~/dev/la-text-reuse-detection/evaluation/benchmarking.py:125\u001b[0m, in \u001b[0;36mBenchmarkRunner._benchmark_reranker\u001b[0;34m(self, reranker, data)\u001b[0m\n\u001b[1;32m    123\u001b[0m reranking \u001b[38;5;241m=\u001b[39m Reranking(reranker, data)\n\u001b[1;32m    124\u001b[0m reports \u001b[38;5;241m=\u001b[39m []\n\u001b[0;32m--> 125\u001b[0m preds \u001b[38;5;241m=\u001b[39m \u001b[43mreranking\u001b[49m\u001b[38;5;241;43m.\u001b[39;49m\u001b[43mpredict\u001b[49m\u001b[43m(\u001b[49m\u001b[43m)\u001b[49m\n\u001b[1;32m    126\u001b[0m report_str \u001b[38;5;241m=\u001b[39m classification_report(data[\u001b[38;5;124m'\u001b[39m\u001b[38;5;124mlabel\u001b[39m\u001b[38;5;124m'\u001b[39m], preds)\n\u001b[1;32m    127\u001b[0m \u001b[38;5;28mprint\u001b[39m(\u001b[38;5;124mf\u001b[39m\u001b[38;5;124m\"\u001b[39m\u001b[38;5;124mReranker\u001b[39m\u001b[38;5;130;01m\\n\u001b[39;00m\u001b[38;5;132;01m{\u001b[39;00mreport_str\u001b[38;5;132;01m}\u001b[39;00m\u001b[38;5;124m\"\u001b[39m)\n",
      "File \u001b[0;32m~/dev/la-text-reuse-detection/app/reranking.py:13\u001b[0m, in \u001b[0;36mReranking.predict\u001b[0;34m(self)\u001b[0m\n\u001b[1;32m     11\u001b[0m \u001b[38;5;28;01mdef\u001b[39;00m\u001b[38;5;250m \u001b[39m\u001b[38;5;21mpredict\u001b[39m(\u001b[38;5;28mself\u001b[39m):\n\u001b[1;32m     12\u001b[0m     preds \u001b[38;5;241m=\u001b[39m []\n\u001b[0;32m---> 13\u001b[0m     sents1 \u001b[38;5;241m=\u001b[39m \u001b[38;5;28;43mself\u001b[39;49m\u001b[38;5;241;43m.\u001b[39;49m\u001b[43mdata\u001b[49m\u001b[43m[\u001b[49m\u001b[38;5;124;43m'\u001b[39;49m\u001b[38;5;124;43msentence1\u001b[39;49m\u001b[38;5;124;43m'\u001b[39;49m\u001b[43m]\u001b[49m\n\u001b[1;32m     14\u001b[0m     sents2 \u001b[38;5;241m=\u001b[39m \u001b[38;5;28mself\u001b[39m\u001b[38;5;241m.\u001b[39mdata[\u001b[38;5;124m'\u001b[39m\u001b[38;5;124msentence2\u001b[39m\u001b[38;5;124m'\u001b[39m]\n\u001b[1;32m     15\u001b[0m     \u001b[38;5;28;01mfor\u001b[39;00m s1, s2 \u001b[38;5;129;01min\u001b[39;00m tqdm(\u001b[38;5;28mzip\u001b[39m(sents1, sents2), total\u001b[38;5;241m=\u001b[39m\u001b[38;5;28mlen\u001b[39m(sents1)):\n",
      "\u001b[0;31mTypeError\u001b[0m: list indices must be integers or slices, not str"
     ]
    }
   ],
   "source": [
    "MODELS = {\n",
    "    \"RETRIEVER\":  (0, \"SPhilBERTa\"),\n",
    "    \"RERANKER_F\": (0, \"LaBERTa\"),\n",
    "    \"RERANKER_P\": (0, \"LaBERTa\"),\n",
    "    \"RERANKER_C\": (1, \"CES-5E\")\n",
    "}\n",
    "\n",
    "PIPELINE_CONFIGS = [\n",
    "    {\"threshold\": t} \n",
    "    for t in [0.5, 0.6, 0.7]\n",
    "]\n",
    "RETRIEVAL_CONFIGS = [\n",
    "    {\"k\": k, \"threshold\": t}\n",
    "    for k in [2, 5, 8]\n",
    "    for t in [0.5, 0.6, 0.7, 0.8]\n",
    "]\n",
    "RERANKER_CONFIGS = [\n",
    "    {\"threshold\": t} \n",
    "    for t in [0.5, 0.6, 0.7, 0.8]\n",
    "]\n",
    "\n",
    "import benchmarking\n",
    "benchmarking.BenchmarkRunner(\n",
    "        MODEL_FOLDER, [name if select else None for select, name in MODELS.values()],\n",
    "        DATA_FOLDER, {'G': SAMPLES_G, 'F': SAMPLES_F, 'P': SAMPLES_P, 'C': SAMPLES_C},\n",
    "        RESULT_FOLDER,\n",
    "        PIPELINE_CONFIGS, RETRIEVAL_CONFIGS, RERANKER_CONFIGS\n",
    "    ).benchmark()"
   ]
  },
  {
   "cell_type": "code",
   "execution_count": null,
   "id": "919a48bd-60ae-4405-83e7-6f4d89010bf2",
   "metadata": {},
   "outputs": [],
   "source": []
  }
 ],
 "metadata": {
  "kernelspec": {
   "display_name": "Python 3 (ipykernel)",
   "language": "python",
   "name": "python3"
  },
  "language_info": {
   "codemirror_mode": {
    "name": "ipython",
    "version": 3
   },
   "file_extension": ".py",
   "mimetype": "text/x-python",
   "name": "python",
   "nbconvert_exporter": "python",
   "pygments_lexer": "ipython3",
   "version": "3.10.16"
  }
 },
 "nbformat": 4,
 "nbformat_minor": 5
}
