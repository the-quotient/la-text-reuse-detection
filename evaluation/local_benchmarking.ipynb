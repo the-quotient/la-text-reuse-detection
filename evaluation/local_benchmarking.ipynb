{
 "cells": [
  {
   "cell_type": "code",
   "execution_count": null,
   "id": "6e80f3b2-53d2-42e9-a2d1-b74c2a734b4c",
   "metadata": {},
   "outputs": [],
   "source": [
    "import pandas as pd\n",
    "import numpy as np\n",
    "from sklearn.metrics import classification_report\n",
    "from sentence_transformers import SentenceTransformer, CrossEncoder\n",
    "from sklearn.metrics.pairwise import cosine_similarity\n",
    "import torch\n",
    "from transformers import AutoTokenizer, AutoModelForSequenceClassification\n",
    "from tqdm import tqdm"
   ]
  },
  {
   "cell_type": "code",
   "execution_count": null,
   "id": "d792829c-ac5c-4c2b-b5b8-2fa6fbb1de5c",
   "metadata": {},
   "outputs": [],
   "source": [
    "csv_file = \"../data/evaluation/OLD_EVAL_F1.csv\"\n",
    "data = pd.read_csv(csv_file)\n",
    "\n",
    "expected_cols = {'sentence1', 'sentence2', 'label'}\n",
    "if not expected_cols.issubset(data.columns):\n",
    "    raise ValueError(\"CSV file must contain columns: {}\".format(expected_cols))\n",
    "\n",
    "# Relabel: map all labels that are not \"irrelevant\" to 1, and \"irrelevant\" to 0.\n",
    "data['label'] = data['label'].apply(lambda x: 0 if str(x).lower() == \"irrelevant\" else 1)\n",
    "\n",
    "print(\"Starting Retrieval Benchmark...\")\n",
    "similarities = benchmark_retrieval(data, model_name=\"bowphs/SPhilBERTa\")\n",
    "\n",
    "for threshold in [0.5, 0.6, 0.7, 0.8, 0.9]:\n",
    "    retrieval_preds = (similarities >= threshold).astype(int)\n",
    "    print(\"Retrieval Baseline Evaluation (threshold = {}):\".format(threshold))\n",
    "    print(classification_report(data['label'], retrieval_preds))\n",
    "    print(\" \") \n",
    "\n",
    "print(\"Starting Reranker Benchmark...\")\n",
    "reranker_preds = benchmark_reranker(data, model_name=\"bowphs/LaBerta\")\n",
    "\n",
    "print(\"Reranker Baseline Evaluation:\")\n",
    "print(classification_report(data['label'], reranker_preds))"
   ]
  },
  {
   "cell_type": "code",
   "execution_count": null,
   "id": "7f1ebd20-863e-4301-a7d7-1d0e89e2883f",
   "metadata": {},
   "outputs": [],
   "source": [
    "def benchmark_retrieval(data, model_name):\n",
    "    print(\"Loading retrieval model:\", model_name)\n",
    "    retrieval_model = SentenceTransformer(model_name)\n",
    "\n",
    "    # Encode sentences from both columns\n",
    "    print(\"Computing embeddings for sentence1...\")\n",
    "    embeddings1 = retrieval_model.encode(data['sentence1'].tolist(), show_progress_bar=True)\n",
    "    print(\"Computing embeddings for sentence2...\")\n",
    "    embeddings2 = retrieval_model.encode(data['sentence2'].tolist(), show_progress_bar=True)\n",
    "\n",
    "    # Compute cosine similarities for each pair\n",
    "    similarities = np.array([\n",
    "        cosine_similarity([emb1], [emb2])[0][0] \n",
    "        for emb1, emb2 in zip(embeddings1, embeddings2)\n",
    "    ])\n",
    "\n",
    "    return similarities"
   ]
  },
  {
   "cell_type": "code",
   "execution_count": null,
   "id": "8ac628da-36d6-4680-85aa-5162a27f30c8",
   "metadata": {},
   "outputs": [],
   "source": [
    "def benchmark_reranker(data, model_name):\n",
    "    print(\"Loading reranker model:\", model_name)\n",
    "    cross_encoder = CrossEncoder(model_name)\n",
    "\n",
    "    reranker_preds = []\n",
    "\n",
    "    # Process each sentence pair\n",
    "    for s1, s2 in tqdm(zip(data['sentence1'], data['sentence2']), total=len(data)):\n",
    "        # CrossEncoder expects a list of sentence pairs\n",
    "        # The model returns a continuous score; here we threshold at 0.5 to get a binary label.\n",
    "        score = cross_encoder.predict([(s1, s2)])[0]\n",
    "        pred_label = int(score > 0.5)\n",
    "        reranker_preds.append(pred_label)\n",
    "\n",
    "    return reranker_preds"
   ]
  }
 ],
 "metadata": {
  "kernelspec": {
   "display_name": "Python 3 (ipykernel)",
   "language": "python",
   "name": "python3"
  },
  "language_info": {
   "codemirror_mode": {
    "name": "ipython",
    "version": 3
   },
   "file_extension": ".py",
   "mimetype": "text/x-python",
   "name": "python",
   "nbconvert_exporter": "python",
   "pygments_lexer": "ipython3",
   "version": "3.10.14"
  }
 },
 "nbformat": 4,
 "nbformat_minor": 5
}
